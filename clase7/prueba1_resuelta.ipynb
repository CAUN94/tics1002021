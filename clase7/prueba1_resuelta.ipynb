{
  "nbformat": 4,
  "nbformat_minor": 0,
  "metadata": {
    "colab": {
      "name": "Untitled0.ipynb",
      "provenance": []
    },
    "kernelspec": {
      "name": "python3",
      "display_name": "Python 3"
    },
    "language_info": {
      "name": "python"
    }
  },
  "cells": [
    {
      "cell_type": "code",
      "metadata": {
        "colab": {
          "base_uri": "https://localhost:8080/"
        },
        "id": "XOwcqYra87aw",
        "outputId": "a8de0e94-3e41-49be-980c-30f245037ddc"
      },
      "source": [
        "#Pregunta 1\n",
        "\n",
        "v = 0\n",
        "a = 0\n",
        "i = 0\n",
        "g = 0\n",
        "\n",
        "#Suponiendo que el usuario siempre entrega un nr en formato correcto\n",
        "\n",
        "cantidad = 0\n",
        "while True:\n",
        "  r = int(input('Ingrese notas en formato 4331 o 0 para terminar: '))\n",
        "\n",
        "  if r == 0:\n",
        "    print('Programa terminado')\n",
        "    break\n",
        "  \n",
        "  it = 0\n",
        "  while r > 0:\n",
        "    digito = r - (r//10)*10\n",
        "    r = r//10\n",
        "\n",
        "    if it == 0:\n",
        "      g += digito\n",
        "    \n",
        "    elif it == 1:\n",
        "      i += digito\n",
        "    \n",
        "    elif it == 2:\n",
        "      a += digito\n",
        "\n",
        "    elif it == 3:\n",
        "      v += digito\n",
        "    \n",
        "    it += 1\n",
        "  \n",
        "  cantidad += 1\n",
        "  \n",
        "\n",
        "print(f'Nota promedio del producto V: {v/cantidad}')\n",
        "print(f'Nota promedio del producto A: {a/cantidad}')\n",
        "print(f'Nota promedio del producto I: {i/cantidad}')\n",
        "print(f'Nota promedio del producto G: {g/cantidad}')\n",
        "    \n",
        "\n",
        "\n",
        "\n"
      ],
      "execution_count": 6,
      "outputs": [
        {
          "output_type": "stream",
          "text": [
            "Ingrese notas en formato 4331 o 0 para terminar: 3210\n",
            "Ingrese notas en formato 4331 o 0 para terminar: 3210\n",
            "Ingrese notas en formato 4331 o 0 para terminar: 3210\n",
            "Ingrese notas en formato 4331 o 0 para terminar: 0\n",
            "Programa terminado\n",
            "Nota promedio del producto V: 3.0\n",
            "Nota promedio del producto A: 2.0\n",
            "Nota promedio del producto I: 1.0\n",
            "Nota promedio del producto G: 0.0\n"
          ],
          "name": "stdout"
        }
      ]
    },
    {
      "cell_type": "code",
      "metadata": {
        "colab": {
          "base_uri": "https://localhost:8080/"
        },
        "id": "ug5Ya00O_eAR",
        "outputId": "37e06e73-e4af-463b-eb02-f5ae823e9205"
      },
      "source": [
        "while True:\n",
        "  c1 = input('¿Se comprobó dirección? (SI/NO)')\n",
        "\n",
        "  if c1 == 'NO':\n",
        "    print('Rechaza solicitud de préstamo')\n",
        "    break\n",
        "\n",
        "  c2 = input('¿Se comprobó identidad? (SI/NO)')\n",
        "\n",
        "  if c2 == 'NO':\n",
        "    print('Rechaza solicitud de préstamo')\n",
        "    break\n",
        "\n",
        "  c3 = input('¿Monto préstamo es menor que sueldo mes? (SI/NO)')\n",
        "\n",
        "  if c1 == 'SI' and c2 == 'SI' and c3 =='SI':\n",
        "    print('Aprueba préstamo inmediatamente')\n",
        "    break\n",
        "\n",
        "  c4 = input('¿Monto préstamo es >= que sueldo mes? (SI/NO)')\n",
        "  c5 = input('Propósito del préstamo: Comprar casa (1) Pago impuestos (2) Otro (3 ')\n",
        "  \n",
        "  if c4 == 'SI' and c5 == '2':\n",
        "    print('Aprueba préstamo inmediatamente')\n",
        "    break\n",
        "\n",
        "  elif c4 == 'SI' and c5 == '3':\n",
        "    print(' Revisa antecedentes manualmente')\n",
        "    break\n",
        "  \n",
        "  c6 = input('¿Es propietario de casa? (SI/NO)')\n",
        "\n",
        "  if c5 == '1' and c6 == 'SI':\n",
        "    print('Aprueba préstamo inmediatamente')\n",
        "    break\n",
        "\n",
        "  \n",
        "\n",
        "  break"
      ],
      "execution_count": 15,
      "outputs": [
        {
          "output_type": "stream",
          "text": [
            "¿Se comprobó dirección? (SI/NO)SI\n",
            "¿Se comprobó identidad? (SI/NO)SI\n",
            "¿Monto préstamo es menor que sueldo mes? (SI/NO)hdsioahdsioajiosad\n",
            "¿Monto préstamo es >= que sueldo mes? (SI/NO)SI\n",
            "Propósito del préstamo: Comprar casa (1) Pago impuestos (2) Otro (3 2\n",
            "Aprueba préstamo inmediatamente\n"
          ],
          "name": "stdout"
        }
      ]
    },
    {
      "cell_type": "code",
      "metadata": {
        "colab": {
          "base_uri": "https://localhost:8080/"
        },
        "id": "JugDimwMCcAn",
        "outputId": "9d538934-ab01-49f6-c927-2c3c6895a11d"
      },
      "source": [
        "s = input('Ingrese su sexo H/M o escriba Salir para finalizar: ')\n",
        "kg = float(input('Ingrese su peso en Kg: '))\n",
        "cm = float(input('Ingrese su altura en cm: '))\n",
        "años = float(input('Ingrese su edad en años: '))\n",
        "print('según la siguiente tabla usted hacer:')\n",
        "print('a) Poco o nada de ejercicio')\n",
        "print('b) Ejercicio ligero')\n",
        "print('c) Ejercicio moderado')\n",
        "print('d) Soy deportista')\n",
        "print('e) Soy atleta')\n",
        "\n",
        "r = input('Alternativa a, b, c, d, e?:')\n",
        "\n",
        "if s == 'H':\n",
        "  TMB = 66 + (13.7 * kg) + (5 * cm) - (6.75 * años)\n",
        "elif s == 'M':\n",
        "  TMB = 65.5 + (9.6 * kg) + (1.8 * cm) - (4.7 * años)\n",
        "\n",
        "if r == 'a':\n",
        "  factor = 1.2\n",
        "elif r == 'b':\n",
        "  factor = 1.375\n",
        "elif r == 'c':\n",
        "  factor = 1.55\n",
        "elif r == 'd':\n",
        "  factor = 1.72\n",
        "elif r == 'e':\n",
        "  factor = 1.9\n",
        "\n",
        "TMB *= factor\n",
        "\n",
        "print(f'Su TMB es {TMB}')\n",
        "\n",
        "\n",
        "while True:\n",
        "\n",
        "  print('a) Desea conocer como esta su alimentación? b) Salir del programa')\n",
        "  r = input('¿Qué opción desea? a/b: a')\n",
        "\n",
        "  if r == 'a':\n",
        "    hc = float(input('¿cuántos gramos de hidrato de carbono consume al día?:'))\n",
        "    p = float(input('¿cuántos gramos de proteínas consume al día?:'))\n",
        "    g = float(input('¿cuántos gramos de grasa consume al día?:'))\n",
        "\n",
        "    calorias = hc*4 + p*4 + g*9\n",
        "\n",
        "    consumo = TMB-calorias\n",
        "    print(calorias)\n",
        "    if consumo >= 0:\n",
        "      print('Usted consume menos calorías de las que gasta.')\n",
        "      print(f'Usted bajara {consumo*30/7000}kg cada 30 días')\n",
        "    else :\n",
        "      print('Usted consume más calorías de las que gasta.')\n",
        "      print(f'Usted subira {consumo*30/7000}kg cada 30 días')\n",
        "\n",
        "    break\n",
        "  elif r == 'b':\n",
        "    print('Programa Terminado')\n",
        "    break\n",
        "\n",
        "\n"
      ],
      "execution_count": 25,
      "outputs": [
        {
          "output_type": "stream",
          "text": [
            "Ingrese su sexo H/M o escriba Salir para finalizar: H\n",
            "Ingrese su peso en Kg: 80\n",
            "Ingrese su altura en cm: 170\n",
            "Ingrese su edad en años: 39\n",
            "según la siguiente tabla usted hacer:\n",
            "a) Poco o nada de ejercicio\n",
            "b) Ejercicio ligero\n",
            "c) Ejercicio moderado\n",
            "d) Soy deportista\n",
            "e) Soy atleta\n",
            "Alternativa a, b, c, d, e?:a\n",
            "Su TMB es 2098.5\n",
            "a) Desea conocer como esta su alimentación? b) Salir del programa\n",
            "¿Qué opción desea? a/b: aa\n",
            "¿cuántos gramos de hidrato de carbono consume al día?:66\n",
            "¿cuántos gramos de proteínas consume al día?:128\n",
            "¿cuántos gramos de grasa consume al día?:108\n",
            "1748.0\n",
            "Usted consume menos calorías de las que gasta.\n",
            "Usted bajara 1.5021428571428572kg cada 30 días\n"
          ],
          "name": "stdout"
        }
      ]
    }
  ]
}