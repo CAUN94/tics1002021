{
  "nbformat": 4,
  "nbformat_minor": 0,
  "metadata": {
    "colab": {
      "name": "Untitled1.ipynb",
      "provenance": []
    },
    "kernelspec": {
      "name": "python3",
      "display_name": "Python 3"
    },
    "language_info": {
      "name": "python"
    }
  },
  "cells": [
    {
      "cell_type": "code",
      "metadata": {
        "id": "5hhtdweBDecO"
      },
      "source": [
        "guess = 'no'\n",
        "while(guess != 'si'):\n",
        "  print(\"pregunta\")\n",
        "  answer = input()\n",
        "  if answer == 'si':\n",
        "    guess = answer\n",
        "    print(\"adivinaste\")\n"
      ],
      "execution_count": null,
      "outputs": []
    },
    {
      "cell_type": "code",
      "metadata": {
        "id": "eDtmlQaJD-Yd"
      },
      "source": [
        "i = 1\n",
        "while(i < 10):\n",
        " print(i)\n",
        " i = i + 1"
      ],
      "execution_count": null,
      "outputs": []
    },
    {
      "cell_type": "code",
      "metadata": {
        "id": "xiCEcuX4EBa8"
      },
      "source": [
        "i = 10\n",
        "while(i > 0):\n",
        " print(i)\n",
        " i = i - 1"
      ],
      "execution_count": null,
      "outputs": []
    },
    {
      "cell_type": "code",
      "metadata": {
        "id": "R8cTDgo9EEld"
      },
      "source": [
        "while( True ):\n",
        " print('Escribe 0 para salir')\n",
        " respuesta = int( input() )\n",
        " if(respuesta == 0):\n",
        "  break"
      ],
      "execution_count": null,
      "outputs": []
    }
  ]
}