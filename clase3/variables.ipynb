{
  "nbformat": 4,
  "nbformat_minor": 0,
  "metadata": {
    "colab": {
      "name": "Untitled1.ipynb",
      "provenance": []
    },
    "kernelspec": {
      "name": "python3",
      "display_name": "Python 3"
    },
    "language_info": {
      "name": "python"
    }
  },
  "cells": [
    {
      "cell_type": "code",
      "metadata": {
        "colab": {
          "base_uri": "https://localhost:8080/"
        },
        "id": "p03x1jn5Bnp4",
        "outputId": "496daccb-dbf5-4b54-bbfb-b2e1dc231942"
      },
      "source": [
        "x = 7\n",
        "y = 5\n",
        "z = x - y\n",
        "print(z)"
      ],
      "execution_count": 1,
      "outputs": [
        {
          "output_type": "stream",
          "text": [
            "2\n"
          ],
          "name": "stdout"
        }
      ]
    },
    {
      "cell_type": "code",
      "metadata": {
        "id": "C3Dfd3VVBtpG"
      },
      "source": [
        "x = 7\n",
        "y = 5\n",
        "x = 9\n",
        "z = x - y\n",
        "print(z)"
      ],
      "execution_count": null,
      "outputs": []
    },
    {
      "cell_type": "code",
      "metadata": {
        "id": "ufZ6d7nyBvg6"
      },
      "source": [
        "x = 7\n",
        "y = 5\n",
        "x = 9\n",
        "z = x - y\n",
        "print(z)"
      ],
      "execution_count": null,
      "outputs": []
    },
    {
      "cell_type": "code",
      "metadata": {
        "colab": {
          "base_uri": "https://localhost:8080/"
        },
        "id": "o5RRa0nEBxZ9",
        "outputId": "88699485-8946-4497-b745-8e6ad55bbcfe"
      },
      "source": [
        "x = 7\n",
        "y = 5\n",
        "x = 9\n",
        "z = x - y\n",
        "\n",
        "ss = \"el resultado es: \"\n",
        "print(ss,z)"
      ],
      "execution_count": 2,
      "outputs": [
        {
          "output_type": "stream",
          "text": [
            "el resultado es:  4\n"
          ],
          "name": "stdout"
        }
      ]
    },
    {
      "cell_type": "code",
      "metadata": {
        "colab": {
          "base_uri": "https://localhost:8080/"
        },
        "id": "U8gVdjB2B5W1",
        "outputId": "e7e02c40-0de4-48e3-e01d-104b7e13ae96"
      },
      "source": [
        "ss = \"el numero ingresado es: \"\n",
        "x = input()\n",
        "print(ss,x)"
      ],
      "execution_count": 3,
      "outputs": [
        {
          "output_type": "stream",
          "text": [
            "20\n",
            "el numero ingresado es:  20\n"
          ],
          "name": "stdout"
        }
      ]
    },
    {
      "cell_type": "code",
      "metadata": {
        "id": "MOAsXb-4CEwo"
      },
      "source": [
        "ss = \"el numero ingresado es: \"\n",
        "x = input()\n",
        "x = x + 1\n",
        "print(ss,x)"
      ],
      "execution_count": null,
      "outputs": []
    },
    {
      "cell_type": "code",
      "metadata": {
        "colab": {
          "base_uri": "https://localhost:8080/"
        },
        "id": "4qkA0NXlCIcH",
        "outputId": "1943dd3b-1387-4040-aa62-4c95f23927a9"
      },
      "source": [
        "ss = \"el numero ingresado es: \"\n",
        "x = input()\n",
        "x = int(x)\n",
        "x = x + 1\n",
        "print(ss,x)"
      ],
      "execution_count": 4,
      "outputs": [
        {
          "output_type": "stream",
          "text": [
            "20\n",
            "el numero ingresado es:  21\n"
          ],
          "name": "stdout"
        }
      ]
    },
    {
      "cell_type": "code",
      "metadata": {
        "id": "fYaHqeDFCOpD"
      },
      "source": [
        ""
      ],
      "execution_count": null,
      "outputs": []
    }
  ]
}