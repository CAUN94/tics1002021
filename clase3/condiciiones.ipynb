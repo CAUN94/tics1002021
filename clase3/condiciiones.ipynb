{
  "nbformat": 4,
  "nbformat_minor": 0,
  "metadata": {
    "colab": {
      "name": "Untitled1.ipynb",
      "provenance": []
    },
    "kernelspec": {
      "name": "python3",
      "display_name": "Python 3"
    },
    "language_info": {
      "name": "python"
    }
  },
  "cells": [
    {
      "cell_type": "code",
      "metadata": {
        "id": "fYaHqeDFCOpD"
      },
      "source": [
        "x = 0\n",
        "if x == 0:\n",
        "  print(\"Obvio\")"
      ],
      "execution_count": null,
      "outputs": []
    },
    {
      "cell_type": "code",
      "metadata": {
        "id": "7gPONRELCdUV"
      },
      "source": [
        "area = 10\n",
        "x = 8\n",
        "if area > 10:\n",
        "  print(\"Aqui escribo el bloque if, OJO con la indenteación\")"
      ],
      "execution_count": null,
      "outputs": []
    },
    {
      "cell_type": "code",
      "metadata": {
        "id": "OxRd1VGGCk7t"
      },
      "source": [
        "area = 10\n",
        "x = 8\n",
        "if area > 10:\n",
        "  print(\"El area es mayor a 10\")\n",
        "  w = 11\n",
        "\n",
        "area = 0\n",
        "print(w)"
      ],
      "execution_count": null,
      "outputs": []
    },
    {
      "cell_type": "code",
      "metadata": {
        "id": "xIdAL4QhCszW"
      },
      "source": [
        "area = 11\n",
        "x = 8\n",
        "if area > 11:\n",
        "  print(\"El area es mayor a 10\")\n",
        "  w = 11\n",
        "\n",
        "area = 0\n",
        "print(w)"
      ],
      "execution_count": null,
      "outputs": []
    },
    {
      "cell_type": "code",
      "metadata": {
        "id": "Gzf-l8rDC5sJ"
      },
      "source": [
        "area = 10\n",
        "w = 8\n",
        "\n",
        "if area > 10:\n",
        "  print(\"Bloque if\")\n",
        "else: \n",
        "  print(\"Bloque else\")\n",
        "\n",
        "print(w)"
      ],
      "execution_count": null,
      "outputs": []
    },
    {
      "cell_type": "code",
      "metadata": {
        "id": "3pZK7SaJDC-j"
      },
      "source": [
        "area = 10\n",
        "w = 8\n",
        "\n",
        "if area > 10:\n",
        "  print(\"El area es mayor a 10\")\n",
        "  w = 1\n",
        "else: \n",
        "  area = 0\n",
        "  w = 7\n",
        "\n",
        "print(w)"
      ],
      "execution_count": null,
      "outputs": []
    },
    {
      "cell_type": "code",
      "metadata": {
        "colab": {
          "base_uri": "https://localhost:8080/"
        },
        "id": "qeFNl3FPDJ9I",
        "outputId": "d5490397-6f03-4b00-fb69-9c4f17c2cfad"
      },
      "source": [
        "area = 10\n",
        "w = 8\n",
        "if ( area > 10 ):\n",
        " print(\"El area es mayor a 10\")\n",
        " w = 11\n",
        "else:\n",
        " area = 9\n",
        " w = 7\n",
        "print(str(w))"
      ],
      "execution_count": 5,
      "outputs": [
        {
          "output_type": "stream",
          "text": [
            "7\n"
          ],
          "name": "stdout"
        }
      ]
    },
    {
      "cell_type": "code",
      "metadata": {
        "id": "MBiZG5_EDPb0"
      },
      "source": [
        "area = 10\n",
        "w = 8\n",
        "if ( area > 10 ):\n",
        " print(\"bloque if\")\n",
        "else:\n",
        " if ( area > 5 ):\n",
        "   print(\"bloque if\")\n",
        " else:\n",
        "   print(\"bloque else\")\n",
        "print(str(w))"
      ],
      "execution_count": null,
      "outputs": []
    },
    {
      "cell_type": "code",
      "metadata": {
        "id": "Q4TpaGdBDW5B"
      },
      "source": [
        "area = 10\n",
        "w = 8\n",
        "if ( area > 10 ):\n",
        " print(\"bloque if\")\n",
        "\n",
        "elif ( area > 5 ):\n",
        "  print(\"bloque if\")\n",
        "else:\n",
        "  print(\"bloque else\")\n",
        "print(str(w))"
      ],
      "execution_count": null,
      "outputs": []
    },
    {
      "cell_type": "code",
      "metadata": {
        "id": "5hhtdweBDecO"
      },
      "source": [
        "area = 5\n",
        "w = 8\n",
        "if ( area > 10 ):\n",
        " print(\"El area es mayor o a 10\")\n",
        " w = 11\n",
        "elif ( area == 12 ):\n",
        " print(\"El area es 12\")\n",
        " w = 6\n",
        "else:\n",
        " print(\"El area es menor o igual a\n",
        "10\")\n",
        " w = 1\n",
        "print(str(w)"
      ],
      "execution_count": null,
      "outputs": []
    }
  ]
}