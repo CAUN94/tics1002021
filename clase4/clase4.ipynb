{
  "nbformat": 4,
  "nbformat_minor": 0,
  "metadata": {
    "colab": {
      "name": "Untitled2.ipynb",
      "provenance": []
    },
    "kernelspec": {
      "name": "python3",
      "display_name": "Python 3"
    },
    "language_info": {
      "name": "python"
    }
  },
  "cells": [
    {
      "cell_type": "code",
      "metadata": {
        "colab": {
          "base_uri": "https://localhost:8080/"
        },
        "id": "pU3fev9Preki",
        "outputId": "5d0c992b-2077-4678-8442-c016249058a7"
      },
      "source": [
        "print(\"¿Cómo te llamas?\")\n",
        "nombre=input()\n",
        "print(\"¿Cuántos años tienes?\")\n",
        "edad=input() #dato edad ingresa como texto\n",
        "edad=int(edad) #transforma edad de texto a entero\n",
        "if(edad>=18):\n",
        "\tprint(nombre, \"ya eres mayor de edad\")\n",
        "else:\n",
        "\tprint(nombre, \"aún eres menor de edad\")"
      ],
      "execution_count": 1,
      "outputs": [
        {
          "output_type": "stream",
          "text": [
            "¿Cómo te llamas?\n",
            "Cris\n",
            "¿Cuántos años tienes?\n",
            "19\n",
            "Cris ya eres mayor de edad\n"
          ],
          "name": "stdout"
        }
      ]
    },
    {
      "cell_type": "code",
      "metadata": {
        "colab": {
          "base_uri": "https://localhost:8080/"
        },
        "id": "4scviQf9rkWS",
        "outputId": "729c1ea4-40f0-472d-f3cd-ff4e88e4a309"
      },
      "source": [
        "print(\"¿Es mujer?\")\n",
        "respuesta=input()\n",
        "if(respuesta == 'si'):\n",
        "        genero = 'm'\n",
        "else:\n",
        "        genero = 'h'\n"
      ],
      "execution_count": 2,
      "outputs": [
        {
          "output_type": "stream",
          "text": [
            "¿Es mujer?\n",
            "m\n"
          ],
          "name": "stdout"
        }
      ]
    },
    {
      "cell_type": "code",
      "metadata": {
        "id": "LG0QIbEDrnln"
      },
      "source": [
        "print(\"¿Es mujer?\")\n",
        "respuesta=input()\n",
        "if(respuesta == 'si'):\n",
        "        genero = 'm'\n",
        "else:\n",
        "        genero = 'h'\n"
      ],
      "execution_count": null,
      "outputs": []
    },
    {
      "cell_type": "code",
      "metadata": {
        "id": "UzWXnmTVroOA"
      },
      "source": [
        "i = 1\n",
        "while(i < 10):\n",
        "    print(i)\n",
        "    i = i + 1\n"
      ],
      "execution_count": null,
      "outputs": []
    },
    {
      "cell_type": "code",
      "metadata": {
        "id": "xHLE9hPCrqjB"
      },
      "source": [
        "i = 10\n",
        "while(i > 0):\n",
        "    print(i)\n",
        "    i = i - 1"
      ],
      "execution_count": null,
      "outputs": []
    },
    {
      "cell_type": "code",
      "metadata": {
        "id": "xwixZvOcrvEX"
      },
      "source": [
        "while( True ):\n",
        "  print('Escribe 0 para salir')\n",
        "  respuesta = int( input() )\n",
        "  if(respuesta == 0):\n",
        "        break"
      ],
      "execution_count": null,
      "outputs": []
    },
    {
      "cell_type": "code",
      "metadata": {
        "id": "Z_ye-uQ5rxdN"
      },
      "source": [
        "print(\"Ingresa un numero\")\n",
        "num=input()\n",
        "num=int(num)\n",
        "while(num<10):\n",
        " \tprint(\"Ingresa un numero\")\n",
        "\tnum=input()\n",
        "  \tnum=int(num)\n",
        "if(num<20):\n",
        " \t  if(num%2==0):\n",
        "   \t\t print(\"No me digas \")\n",
        " \t else:\n",
        "   \t\t print(\"Dime \")\n",
        "else:\n",
        " \t print(\"Ya te dije \")\n",
        "if(num>=10):\n",
        "  \tprint(\"que es mentira\")"
      ],
      "execution_count": null,
      "outputs": []
    },
    {
      "cell_type": "code",
      "metadata": {
        "id": "q7WriSxsrzcf"
      },
      "source": [
        "print(\"Ingresa un numero\")\n",
        "num=input()\n",
        "num=int(num)\n",
        "while(num<10):\n",
        " \tprint(\"Ingresa un numero\")\n",
        "\tnum=input()\n",
        "  \tnum=int(num)\n",
        "if(num<20):\n",
        " \t  if(num%2==0):\n",
        "   \t\t print(\"No me digas \")\n",
        " \t else:\n",
        "   \t\t print(\"Dime \")\n",
        "else:\n",
        " \t print(\"Ya te dije \")\n",
        "if(num>=10):\n",
        "  \tprint(\"que es mentira\")\n"
      ],
      "execution_count": null,
      "outputs": []
    },
    {
      "cell_type": "code",
      "metadata": {
        "id": "qO_ltzoQr12x"
      },
      "source": [
        "par=0\n",
        "while(par==0):\n",
        "    print(\"Ingresa un numero\")\n",
        "    num=int(input())\n",
        "    if(num%2!=0):\n",
        "        print(\"Ese numero no me gusta\")\n",
        "    else:\n",
        "        par=1\n",
        "        print(\"Ese numero si me gusta!\")\n",
        "print(\"Los divisores de ese numero son:\")\n",
        "i=1\n",
        "while(i<=num):\n",
        "    if(num%i==0):\n",
        "        print(i)\n",
        "    i=i+1\n"
      ],
      "execution_count": null,
      "outputs": []
    },
    {
      "cell_type": "code",
      "metadata": {
        "id": "iGQqSLy9r4P_"
      },
      "source": [
        "fin=0\n",
        "max=1\n",
        "while(fin==0):\n",
        "    num=int(input(\"Ingresa un numero. Para terminar, ingresa 0\"))\n",
        "    if(num==0):\n",
        "        fin=1\n",
        "    else:\n",
        "        if(num>max):\n",
        "            max=num\n",
        "print(\"El mayor valor ingresado fue: \", max)\n",
        "\n"
      ],
      "execution_count": null,
      "outputs": []
    },
    {
      "cell_type": "code",
      "metadata": {
        "id": "2A1xQy70r6Ef"
      },
      "source": [
        "numeros = range(1,11)\n",
        "print(list(numeros))\n",
        "# imprime [1, 2, 3, 4, 5, 6, 7, 8, 9 ,10]\n",
        "\n",
        "impares = range(11, 0, -2)\n",
        "print(list(impares))\n",
        "# imprime [11, 9, 7, 5, 3, 1]\n",
        "\n",
        "multiplos_3 = range(0, 10, 3)\n",
        "print(list(multiplos_3))\n",
        "# imprime [0, 3, 6, 9]\n",
        "\n"
      ],
      "execution_count": null,
      "outputs": []
    },
    {
      "cell_type": "code",
      "metadata": {
        "id": "HSQktVEOsBBB"
      },
      "source": [
        "for i in range(1,11):\n",
        "\tprint(i)"
      ],
      "execution_count": null,
      "outputs": []
    },
    {
      "cell_type": "code",
      "metadata": {
        "id": "qrrhgqXysC-y"
      },
      "source": [
        "for i in range(2,14,3):\n",
        "\tprint(i)"
      ],
      "execution_count": null,
      "outputs": []
    },
    {
      "cell_type": "code",
      "metadata": {
        "id": "Yz8WLZ4TsD-j"
      },
      "source": [
        "for i in 'hola':\n",
        "    print(i) #imprime cada letra de hola\n"
      ],
      "execution_count": null,
      "outputs": []
    },
    {
      "cell_type": "code",
      "metadata": {
        "id": "4BgzUNpcsHw6"
      },
      "source": [
        "for i in range(1,11):\n",
        "    print(i) #imprime los nros del 1 al 10\n"
      ],
      "execution_count": null,
      "outputs": []
    },
    {
      "cell_type": "code",
      "metadata": {
        "id": "b7o1AYuisJKe"
      },
      "source": [
        "lista = [45,5,3,\"hola\",\"Otra cosa\"]"
      ],
      "execution_count": null,
      "outputs": []
    },
    {
      "cell_type": "code",
      "metadata": {
        "id": "26ydt8e2sPli"
      },
      "source": [
        "lista = [45,5,3,\"hola\",\"Otra cosa\"]\n",
        "print(lista[0])\n"
      ],
      "execution_count": null,
      "outputs": []
    },
    {
      "cell_type": "code",
      "metadata": {
        "id": "4D_rC6HzsSQo"
      },
      "source": [
        "lista = [45,5,3,\"hola\",\"Otra cosa\"]\n",
        "print(lista[3])\n"
      ],
      "execution_count": null,
      "outputs": []
    },
    {
      "cell_type": "code",
      "metadata": {
        "id": "EWomaY04sUZA"
      },
      "source": [
        "lista = [45,5,3,\"hola\",\"Otra cosa\"]\n",
        "for elemento in lista:\n",
        "    print(elemento)\n"
      ],
      "execution_count": null,
      "outputs": []
    },
    {
      "cell_type": "code",
      "metadata": {
        "id": "G32GICZtsWOl"
      },
      "source": [
        "lista = [45,5,3,\"hola\",\"Otra cosa\"]\n",
        "for i in range (0,len(lista)):\n",
        "    print(lista[i])\n"
      ],
      "execution_count": null,
      "outputs": []
    },
    {
      "cell_type": "code",
      "metadata": {
        "id": "kuPuDfszsZVL"
      },
      "source": [
        "lista = [3,56,5,38,2,3,765]\n",
        "suma = 0\n",
        "for elemento in lista:\n",
        "    suma = suma + elemento\n",
        "print(suma)\n"
      ],
      "execution_count": null,
      "outputs": []
    },
    {
      "cell_type": "code",
      "metadata": {
        "id": "cShUVuNPsaeq"
      },
      "source": [
        "lista = [3,56,5,38,2,3,765]\n",
        "suma = 0\n",
        "for i in range (0,len(lista)):\n",
        "    suma = suma + lista[i]\n",
        "print(suma)\n"
      ],
      "execution_count": null,
      "outputs": []
    },
    {
      "cell_type": "code",
      "metadata": {
        "id": "HA6iZSTmsdH8"
      },
      "source": [
        "lista = [3,56,5,38,2,3,765]\n",
        "cont=0\n",
        "for element in lista:\n",
        "    if (element % 2 == 0):\n",
        "        cont = cont + 1\n",
        "print(\"no. de pares es\", cont)\n"
      ],
      "execution_count": null,
      "outputs": []
    },
    {
      "cell_type": "code",
      "metadata": {
        "id": "a_xvg7-rseYQ"
      },
      "source": [
        "lista = [3,56,5,38,2,3,765]\n",
        "cont=0\n",
        "for i in range (0,len(lista)):\n",
        "    if (lista [i] % 2 == 0):\n",
        "        cont = cont + 1\n",
        "print(\"no. de pares es\", cont)\n"
      ],
      "execution_count": null,
      "outputs": []
    },
    {
      "cell_type": "code",
      "metadata": {
        "id": "fWmpdoEmsfv3"
      },
      "source": [
        "lista = [3,56,5,38,2,3,765]\n",
        "menor = lista[0]\n",
        "for element in lista:\n",
        "    if (element < menor):\n",
        "        menor = element\n",
        "print(\"menor elemento: \", menor)\n"
      ],
      "execution_count": null,
      "outputs": []
    },
    {
      "cell_type": "code",
      "metadata": {
        "id": "p0W1I5Bbsg8v"
      },
      "source": [
        "lista = [3,56,5,38,2,3,765]\n",
        "menor = lista[0]\n",
        "for i in range (0,len(lista)):\n",
        "    if (lista[i] < menor):\n",
        "        menor = lista[i]\n",
        "print(\"menor elemento: \", menor)\n"
      ],
      "execution_count": null,
      "outputs": []
    },
    {
      "cell_type": "code",
      "metadata": {
        "id": "aZVcTTQtsjFL"
      },
      "source": [
        "print(\"ingrese el número de elementos: \")\n",
        "num = int(input())\n",
        "\n",
        "lista = []\n",
        "for i in range (0,num):\n",
        "    print(\"ingrese es elemento\",i)\n",
        "    elem = int(input())\n",
        "    lista.append(elem)\n"
      ],
      "execution_count": null,
      "outputs": []
    },
    {
      "cell_type": "code",
      "metadata": {
        "id": "8olrd8Vxskj0"
      },
      "source": [
        "print(\"ingrese el número de elementos: \")\n",
        "num = int(input())\n",
        "\n",
        "lista = []\n",
        "for i in range (0,num):\n",
        "    print(\"ingrese es elemento\",i)\n",
        "    elem = int(input())\n",
        "    lista.append(input())\n",
        "\n",
        "print (\"la lista es:\")\n",
        "for i in range (0,len(lista)):\n",
        "    print(lista[i])\n",
        "\n"
      ],
      "execution_count": null,
      "outputs": []
    },
    {
      "cell_type": "code",
      "metadata": {
        "id": "BTet2m0tsmPE"
      },
      "source": [
        "print(\"ingrese el num. de elementos: \")\n",
        "num = int(input())\n",
        "\n",
        "lista = []\n",
        "for i in range (0,num):\n",
        "    print(\"ingrese numero\",i)\n",
        "    lista.append(input())\n",
        "\n",
        "print (\"la lista es:\")\n",
        "for i in range (0,len(lista)):\n",
        "    print(lista[i])\n"
      ],
      "execution_count": null,
      "outputs": []
    },
    {
      "cell_type": "code",
      "metadata": {
        "id": "RwX5c67jsnqT"
      },
      "source": [
        "print(\"ingrese numero de elementos \")\n",
        "num = int(input())\n",
        "lista = []\n",
        "\n",
        "for i in range (0,num):\n",
        "    print(\"ingrese numero\",i)\n",
        "    lista.append(input())\n",
        "\n",
        "print (\"la lista es:\")\n",
        "for i in range (0,len(lista)):\n",
        "    print(lista[i])\n",
        "\n",
        "suma=0\n",
        "for elemento in lista:\n",
        "    suma = suma + elemento\n",
        "\n",
        "promedio = suma/len(lista)\n",
        "print (\"promedio es:\", promedio)\n"
      ],
      "execution_count": null,
      "outputs": []
    }
  ]
}