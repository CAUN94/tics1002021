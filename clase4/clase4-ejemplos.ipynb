{
  "nbformat": 4,
  "nbformat_minor": 0,
  "metadata": {
    "colab": {
      "name": "Untitled2.ipynb",
      "provenance": []
    },
    "kernelspec": {
      "name": "python3",
      "display_name": "Python 3"
    },
    "language_info": {
      "name": "python"
    }
  },
  "cells": [
    {
      "cell_type": "code",
      "metadata": {
        "id": "rhTlEyGN5TNd",
        "outputId": "894462e2-6700-42b5-c3a8-ed239c4437e7",
        "colab": {
          "base_uri": "https://localhost:8080/"
        }
      },
      "source": [
        "\n",
        "estudiante = ['Cristóbal','Ugarte',26,'Ing Civil en Ti']\n",
        "print(list(estudiante))\n",
        "\n",
        "for i in range(len(estudiante)):\n",
        "  print(estudiante[i])"
      ],
      "execution_count": 120,
      "outputs": [
        {
          "output_type": "stream",
          "text": [
            "['Cristóbal', 'Ugarte', 26, 'Ing Civil en Ti']\n",
            "Cristóbal\n",
            "Ugarte\n",
            "26\n",
            "Ing Civil en Ti\n"
          ],
          "name": "stdout"
        }
      ]
    },
    {
      "cell_type": "code",
      "metadata": {
        "id": "Oa8nmst94zyj"
      },
      "source": [
        "nr = int(input('Nr? '))\n",
        "for i in range(1,nr+1):\n",
        "  if nr%i == 0:\n",
        "    print(f\"{nr} es divisible por {i}\")\n",
        "  else :\n",
        "    print(f\"{nr} no es divisible por {i}\")\n"
      ],
      "execution_count": null,
      "outputs": []
    },
    {
      "cell_type": "code",
      "metadata": {
        "id": "YIv8rZdM4K0P",
        "outputId": "0b181493-fc41-4fa8-ab68-668e9f6da410",
        "colab": {
          "base_uri": "https://localhost:8080/"
        }
      },
      "source": [
        "x = int(input('Cuantas filas quieres? '))\n",
        "y = int(input('Cuantas columnas quieres? '))\n",
        "for i in range(y):\n",
        "  for j in range(x):\n",
        "    print('#',end=\"\")\n",
        "  print()\n",
        "  "
      ],
      "execution_count": 106,
      "outputs": [
        {
          "output_type": "stream",
          "text": [
            "Cuantas filas quieres? 10\n",
            "Cuantas columnas quieres? 1\n",
            "##########\n"
          ],
          "name": "stdout"
        }
      ]
    },
    {
      "cell_type": "code",
      "metadata": {
        "id": "G0NLgj61w8Js",
        "outputId": "b53bc43f-d2a6-4520-a26d-a1b3c2cc86b7",
        "colab": {
          "base_uri": "https://localhost:8080/"
        }
      },
      "source": [
        "for i in range(10,0,-1):\n",
        "  print(f'{11-i}) Hola Mundo')\n"
      ],
      "execution_count": 91,
      "outputs": [
        {
          "output_type": "stream",
          "text": [
            "1) Hola Mundo\n",
            "2) Hola Mundo\n",
            "3) Hola Mundo\n",
            "4) Hola Mundo\n",
            "5) Hola Mundo\n",
            "6) Hola Mundo\n",
            "7) Hola Mundo\n",
            "8) Hola Mundo\n",
            "9) Hola Mundo\n",
            "10) Hola Mundo\n"
          ],
          "name": "stdout"
        }
      ]
    },
    {
      "cell_type": "code",
      "metadata": {
        "id": "XeRMCju8cyNo"
      },
      "source": [
        "count = 0\n",
        "while True: \n",
        "  print('Hola')\n",
        "  if count == 20:\n",
        "    break\n",
        "  count = count + 1\n",
        "  # count += 1\n"
      ],
      "execution_count": null,
      "outputs": []
    },
    {
      "cell_type": "code",
      "metadata": {
        "id": "e4UXOIQAhrs6",
        "outputId": "3da06f13-2359-4d9d-8b37-80ee46cb6013",
        "colab": {
          "base_uri": "https://localhost:8080/"
        }
      },
      "source": [
        ""
      ],
      "execution_count": 42,
      "outputs": [
        {
          "output_type": "stream",
          "text": [
            "20\n",
            "0\n",
            "100\n",
            "10000000000\n",
            "1.1\n",
            "1\n",
            "1\n"
          ],
          "name": "stdout"
        }
      ]
    },
    {
      "cell_type": "code",
      "metadata": {
        "id": "6vy0lpLbeGF2",
        "outputId": "e47cf4d6-a8ba-489b-fb60-e30a4c9c2365",
        "colab": {
          "base_uri": "https://localhost:8080/"
        }
      },
      "source": [
        "#Escribe un programa en Python que solicite números al usuario hasta que este ingrese el número 0. \n",
        "\n",
        "#Una vez que el usuario ingresa el 0, el programa despliega el valor del mayor número \n",
        "#ingresado (sin contar el cero), el menor número ingresado y detecte si el usuario ingreso un entero,\n",
        "#en caso contrario deberá volver a pedir un número e indicar que no puede ingresar texto.\n",
        "\n",
        "r = input('Dame un 0: ')\n",
        "r = int(r)\n",
        "count = 0\n",
        "\n",
        "while r != 0:\n",
        "  if count == 0:\n",
        "    max = r\n",
        "    min = r\n",
        "  count = count + 1\n",
        "\n",
        "  r = input('Dame un 0: ')\n",
        "  while True:\n",
        "    try:\n",
        "      val = int(r)\n",
        "      break\n",
        "    except ValueError:\n",
        "      r = input('Dame un 0 no un texto: ')\n",
        "  r = int(r)\n",
        "  if r > max:\n",
        "    max = r\n",
        "  \n",
        "  if r != 0 and r < min:\n",
        "    min = r\n",
        "  #if r != 0:\n",
        "   # if r < min:\n",
        "    #  min = r\n",
        "\n",
        "\n",
        "print('El nr max ingresado es :',max)\n",
        "print('El nr min ingresado es :',min)\n",
        "\n"
      ],
      "execution_count": 33,
      "outputs": [
        {
          "output_type": "stream",
          "text": [
            "Dame un 0: 2\n",
            "Dame un 0: 4.5\n",
            "Dame un 0 no un texto: 2.3\n",
            "Dame un 0 no un texto: 2.2\n",
            "Dame un 0 no un texto: dhisoadsa\n",
            "Dame un 0 no un texto: hsioa\n",
            "Dame un 0 no un texto: 821921\n",
            "Dame un 0: 0\n",
            "El nr max ingresado es : 821921\n",
            "El nr min ingresado es : 2\n"
          ],
          "name": "stdout"
        }
      ]
    }
  ]
}