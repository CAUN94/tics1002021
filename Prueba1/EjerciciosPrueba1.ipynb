{
  "nbformat": 4,
  "nbformat_minor": 0,
  "metadata": {
    "colab": {
      "name": "EjerciciosPrueba1.ipynb",
      "provenance": []
    },
    "kernelspec": {
      "name": "python3",
      "display_name": "Python 3"
    },
    "language_info": {
      "name": "python"
    }
  },
  "cells": [
    {
      "cell_type": "markdown",
      "metadata": {
        "id": "k8VaN3axDich"
      },
      "source": [
        "# Ejercicio 1\n",
        "El sistema de ecuaciones lineales:\n",
        "\n",
        "```\n",
        "ax + by = c\n",
        "dx + ey = f\n",
        "```\n",
        "\n",
        "Se puede resolver con las fórmulas:\n",
        "```\n",
        "    x = (ce – bf) / (ae – bd)\n",
        "    y = (af – cd) / (ae – bd)\n",
        "```\n",
        "Sí, y solo sí, ae – bd ≠ 0\n",
        "Elabore un algoritmo que pida los coeficientes a, b, c, e, f,  al usuario y calcule los valores de x, y si es posible, o un mensaje en caso contrario.\n"
      ]
    },
    {
      "cell_type": "code",
      "metadata": {
        "id": "8m4NHOAFDhVG"
      },
      "source": [
        ""
      ],
      "execution_count": null,
      "outputs": []
    },
    {
      "cell_type": "markdown",
      "metadata": {
        "id": "JOimzoW7EBrq"
      },
      "source": [
        "# Ejercicio 2\n",
        "\n",
        "Elaborar un algoritmo para leer 3 números y determinar si uno es la suma de los otros dos, y mostrar un mensaje diciendo “l es igual a m + n”. Si no se encuentra, entonces se debe mostrar un mensaje que diga que no se cumple lo buscado."
      ]
    },
    {
      "cell_type": "code",
      "metadata": {
        "id": "IUCa_463EKvb"
      },
      "source": [
        ""
      ],
      "execution_count": null,
      "outputs": []
    },
    {
      "cell_type": "markdown",
      "metadata": {
        "id": "KxJJng-DELJM"
      },
      "source": [
        "# Ejercicio 3\n",
        "En una librería se venden artículos con las siguientes condiciones:\n",
        "\n",
        "Sí el artículo cuesta más de 10,000 entonces se le descuenta 3% del total\n",
        "\n",
        "Sí el artículo cuesta más de 20,000 entonces el descuento es de un 5%\n",
        "\n",
        "Sí el cliente es frecuente se le descuenta un 10% adicional\n",
        "\n",
        "Escribir un algoritmo que lea el nombre del cliente, número de cliente frecuente, y precio del artículo, calcule el pago final y lo muestre.\n"
      ]
    },
    {
      "cell_type": "code",
      "metadata": {
        "id": "PD7Vfp4hETaU"
      },
      "source": [
        ""
      ],
      "execution_count": null,
      "outputs": []
    },
    {
      "cell_type": "markdown",
      "metadata": {
        "id": "oWDlYTGoETsG"
      },
      "source": [
        "# Ejercicio 4\n",
        "\n",
        "Elaborar un menú que le pregunte al usuario que figura geométrica desea, un cuadrado, un rectángulo, un triángulo o un círculo, y dibuje por pantalla la figura seleccionada.\n"
      ]
    },
    {
      "cell_type": "code",
      "metadata": {
        "id": "Lo0aprhEEY0S"
      },
      "source": [
        ""
      ],
      "execution_count": null,
      "outputs": []
    },
    {
      "cell_type": "markdown",
      "metadata": {
        "id": "HBTFZM3_EZHu"
      },
      "source": [
        "# Ejercicio 5\n",
        "\n",
        "Escriba un algoritmo y su código en Python que determine si la fecha de nacimiento ingresada por el usuario es válida. \n",
        "Al usuario se le debe solicitar por separado el día, mes y año. \n",
        "\n",
        "Se debe verificar que la fecha sea menor que la actual, que no sea muy vieja (1900), y que esté dentro de los rangos de mes/día.\n",
        "\n",
        "Tenga en cuenta que los años pueden ser bisiestos. Los años bisiestos son los divisibles por 4 (como 2004, 2008, etc.) excepto si es divisible entre 100, entonces no es bisiesto (como 2100, 2200, etc.) excepto si es divisible entre 400, entonces sí (como 2000, 2400)."
      ]
    },
    {
      "cell_type": "code",
      "metadata": {
        "id": "4kJmQ0yNEfsy"
      },
      "source": [
        ""
      ],
      "execution_count": null,
      "outputs": []
    },
    {
      "cell_type": "markdown",
      "metadata": {
        "id": "tlMinf9rEgFP"
      },
      "source": [
        "# Ejercicio 6\n",
        "\n",
        "Los cines están a punto de reabrir sus puertas y, tras la crisis por el COVID 19, han decidido lanzar una política agresiva de precios.\n",
        "\n",
        "El precio de la entrada general es de 5 mil pesos, pero ahora tienen una serie de descuentos:\n",
        "\n",
        "Si eres estudiante, tienes un 50% de descuento\n",
        "\n",
        "*   Si eres mayor de 60 años, tienes un 60% de descuento\n",
        "\n",
        "*   Si eres trabajador de la salud, tienes un 70% de descuento.\n",
        "*   Si eres socio de caja los andes, tienes un 30% de descuento. \n",
        "\n",
        "Escriba un programa que pregunte al usuario los datos necesarios y calcule el precio final de su entrada.\n"
      ]
    },
    {
      "cell_type": "code",
      "metadata": {
        "id": "9NYIq9OKEksW"
      },
      "source": [
        ""
      ],
      "execution_count": null,
      "outputs": []
    },
    {
      "cell_type": "markdown",
      "metadata": {
        "id": "EV9Ec5-OElE0"
      },
      "source": [
        ""
      ]
    }
  ]
}