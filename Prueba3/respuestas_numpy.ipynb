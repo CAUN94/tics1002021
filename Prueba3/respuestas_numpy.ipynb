{
  "nbformat": 4,
  "nbformat_minor": 0,
  "metadata": {
    "colab": {
      "name": "numpy.ipynb",
      "provenance": []
    },
    "kernelspec": {
      "name": "python3",
      "display_name": "Python 3"
    },
    "language_info": {
      "name": "python"
    }
  },
  "cells": [
    {
      "cell_type": "markdown",
      "metadata": {
        "id": "3U7M2Xsy7g52"
      },
      "source": [
        "# Ejercicio 1\n",
        "Crea un arreglo de 10 números aleatorios y luego modifica el arreglo con los valores desplazados, de tal forma que el mayor sea 1. Es decir, si el arreglo de números aleatorios tiene como valor máximo el 0.7, entonces debes sumarle a cada elemento 0.3. Luego imprime el arreglo en pantalla.\n"
      ]
    },
    {
      "cell_type": "code",
      "metadata": {
        "colab": {
          "base_uri": "https://localhost:8080/"
        },
        "id": "881xZECo72YU",
        "outputId": "cd19b9ea-e839-4afe-8624-12d8fc994987"
      },
      "source": [
        "import numpy as np\n",
        "\n",
        "numeros = np.random.random([10]).round(1)\n",
        "print(numeros)\n",
        "maximo = np.max(numeros)\n",
        "numeros = numeros + (1-maximo)\n",
        "print(numeros)\n"
      ],
      "execution_count": null,
      "outputs": [
        {
          "output_type": "stream",
          "text": [
            "[0.1 0.7 0.1 0.9 0.9 0.  0.4 0.5 0.8 0.6]\n",
            "[0.2 0.8 0.2 1.  1.  0.1 0.5 0.6 0.9 0.7]\n"
          ],
          "name": "stdout"
        }
      ]
    },
    {
      "cell_type": "markdown",
      "metadata": {
        "id": "tmGpWJyc73PW"
      },
      "source": [
        "# Ejercicio 2\n",
        "\n",
        "Crea un arreglo de 10 números aleatorios y modifica el arreglo de tal forma que el promedio esté en cero. Luego cuenta cuantos valores hay sobre cero y cuantos bajo cero, e imprime eso en pantalla.\n"
      ]
    },
    {
      "cell_type": "code",
      "metadata": {
        "colab": {
          "base_uri": "https://localhost:8080/"
        },
        "id": "50i3hNCZ77R0",
        "outputId": "cfbd296c-0df7-4f3a-ecd9-fbc0d40b988d"
      },
      "source": [
        "import numpy as np\n",
        "\n",
        "numeros = np.random.random([10])*10\n",
        "numeros = numeros.round(0)\n",
        "print(numeros)\n",
        "promedio = np.mean(numeros).round(1)\n",
        "print(promedio)\n",
        "numeros = numeros - promedio\n",
        "print(numeros)\n",
        "promedio = np.mean(numeros).round(1)\n",
        "print(promedio)\n",
        "\n",
        "\n",
        "print(f'Bajo cero {np.sum(numeros < 0)}')\n",
        "print(f'Sobre cero {np.sum(numeros > 0)}')\n"
      ],
      "execution_count": null,
      "outputs": [
        {
          "output_type": "stream",
          "text": [
            "[ 5.  9.  7.  4.  3. 10.  5.  6.  2.  3.]\n",
            "5.4\n",
            "[-0.4  3.6  1.6 -1.4 -2.4  4.6 -0.4  0.6 -3.4 -2.4]\n",
            "-0.0\n",
            "[-0.4 -1.4 -2.4 -0.4 -3.4 -2.4]\n",
            "Bajo cero 6\n",
            "Sobre cero 4\n"
          ],
          "name": "stdout"
        }
      ]
    },
    {
      "cell_type": "markdown",
      "metadata": {
        "id": "1uwTbEj877yv"
      },
      "source": [
        "# Ejercicio 3\n",
        "Crea un arreglo de 100 números aleatorios y suma solamente aquellos valores que sean mayores a 0.5."
      ]
    },
    {
      "cell_type": "code",
      "metadata": {
        "colab": {
          "base_uri": "https://localhost:8080/"
        },
        "id": "qSO9iID278HD",
        "outputId": "d04f2713-ee9e-44c7-9aba-539b050cad68"
      },
      "source": [
        "import numpy as np\n",
        "\n",
        "numeros = (np.random.random([100])).round(1)\n",
        "print(numeros)\n",
        "print(f'La suma es {np.sum(numeros[numeros > 0.5])}')"
      ],
      "execution_count": null,
      "outputs": [
        {
          "output_type": "stream",
          "text": [
            "[0.1 0.7 0.1 0.9 0.5 0.3 0.7 0.1 0.8 0.7 0.1 0.9 0.7 0.2 1.  0.9 0.3 0.6\n",
            " 0.7 0.4 0.8 0.7 0.9 0.3 0.4 0.3 0.8 0.9 0.3 0.1 0.3 0.5 0.8 0.4 0.4 0.\n",
            " 0.2 0.9 0.8 0.9 0.6 0.3 0.5 0.2 0.8 0.9 0.5 0.9 0.1 0.4 0.6 0.1 0.7 0.9\n",
            " 0.6 0.4 0.6 0.2 0.6 0.6 0.5 0.4 0.7 0.3 0.4 0.2 0.8 0.9 1.  0.5 0.  0.2\n",
            " 0.9 1.  0.5 0.1 0.7 0.5 0.2 0.7 0.2 0.2 0.2 0.4 0.8 0.2 0.9 0.5 0.7 0.5\n",
            " 1.  0.1 0.3 0.7 0.3 0.4 0.2 0.9 0.6 0.9]\n",
            "La suma es 37.1\n"
          ],
          "name": "stdout"
        }
      ]
    },
    {
      "cell_type": "markdown",
      "metadata": {
        "id": "9-RNTAyp78Xh"
      },
      "source": [
        "# Ejercicio 4\n",
        "Crea un arreglo de 100 números enteros aleatorios entre 1 y 10000 y encuentra el más cercano a 6543. Imprime el valor en pantalla."
      ]
    },
    {
      "cell_type": "code",
      "metadata": {
        "colab": {
          "base_uri": "https://localhost:8080/"
        },
        "id": "Qf_jkwU278sN",
        "outputId": "e64cd3a2-5059-4948-8462-e3791d153246"
      },
      "source": [
        "import numpy as np\n",
        "\n",
        "value = 6543\n",
        "\n",
        "# numeros = np.random.randint(1, 10000, [100])\n",
        "numeros = (np.random.random([100])*10000).round(0)\n",
        "print(numeros)\n",
        "copia = np.abs(numeros - value)\n",
        "print(copia)\n",
        "i = np.argmin(copia)\n",
        "print(f'El numero más cercano es {numeros[i]}')\n",
        "\n"
      ],
      "execution_count": null,
      "outputs": [
        {
          "output_type": "stream",
          "text": [
            "[ 193. 4039. 5437. 4668. 6292.]\n",
            "[6350. 2504. 1106. 1875.  251.]\n",
            "El numero más cercano es 6292.0\n"
          ],
          "name": "stdout"
        }
      ]
    },
    {
      "cell_type": "markdown",
      "metadata": {
        "id": "Ek1_P0yj79HH"
      },
      "source": [
        "# Ejercicio 5\n",
        "Crea un arreglo de tamaño 100 con número aleatorios, retorna el valor máximo y luego reemplaza el valor en la posición del máximo en el arreglo por un cero."
      ]
    },
    {
      "cell_type": "code",
      "metadata": {
        "colab": {
          "base_uri": "https://localhost:8080/"
        },
        "id": "1e7RH6XM79df",
        "outputId": "108671cc-0adc-4d81-c300-b89743cdff22"
      },
      "source": [
        "import numpy as np\n",
        "\n",
        "numeros = (np.random.random([100])*100).round(0)\n",
        "print(numeros)\n",
        "print(f'El elementos más grande es {np.max(numeros)}')\n",
        "numeros[np.argmax(numeros)] = 0\n",
        "print(numeros)\n"
      ],
      "execution_count": null,
      "outputs": [
        {
          "output_type": "stream",
          "text": [
            "[57. 98. 81. 49. 48. 72. 85. 27.  1. 96.]\n",
            "El elementos más grande es 98.0\n",
            "[57.  0. 81. 49. 48. 72. 85. 27.  1. 96.]\n"
          ],
          "name": "stdout"
        }
      ]
    },
    {
      "cell_type": "markdown",
      "metadata": {
        "id": "fSTjOWRY79pw"
      },
      "source": [
        "# Ejercicio 6\n",
        "Escribe el código en Python que crea un arreglo 1D de 10 elementos con valores aleatorios enteros entre 0 y 9 y que despliegue el contenido del arreglo, así como el número de valles y crestas contenidos en el. Se definen como valles los números que son menores que sus dos vecinos inmediatos en el arreglo (a izquierda y derecha). Se definen como crestas los números que son mayores que sus dos vecinos inmediatos (a izquierda y derecha) en el arreglo. Por ejemplo:"
      ]
    },
    {
      "cell_type": "code",
      "metadata": {
        "colab": {
          "base_uri": "https://localhost:8080/"
        },
        "id": "6W7419zS796X",
        "outputId": "fb310054-4bb7-43ab-aa47-5382aa04ffc1"
      },
      "source": [
        "import numpy\n",
        "\n",
        "numeros=(numpy.random.random([10])*9).round(1)\n",
        "print(numeros)\n",
        "\n",
        "#recorre arreglo y detecta valles y crestas\n",
        "valles=0\n",
        "crestas=0\n",
        "for i in range(1,numeros.size-1):\n",
        "    if(numeros[i]<numeros[i-1] and numeros[i]<numeros[i+1]):\n",
        "        valles=valles+1\n",
        "    if(numeros[i]>numeros[i-1] and numeros[i]>numeros[i+1]):\n",
        "        crestas=crestas+1\n",
        "print(\"Este arreglo tiene \",valles,\"valles y \", crestas, \"crestas\")\n"
      ],
      "execution_count": null,
      "outputs": [
        {
          "output_type": "stream",
          "text": [
            "[7.7 2.7 7.5 1.  8.  7.2 1.1 4.9 0.7 6.6]\n",
            "Este arreglo tiene  4 valles y  3 crestas\n"
          ],
          "name": "stdout"
        }
      ]
    },
    {
      "cell_type": "markdown",
      "metadata": {
        "id": "PpBisxv-7-Sp"
      },
      "source": [
        "# Ejercicio 7\n",
        "Escribe el código Python que calcula el producto punto entre dos vectores a y b de largo 5. Los vectores se crean aleatoriamente. \n",
        "Por ejemplo:\n",
        "[2  9  3  10 10]\n",
        "[3  7  5  1  6]\n",
        "El producto punto es igual a  154.0\n"
      ]
    },
    {
      "cell_type": "code",
      "metadata": {
        "colab": {
          "base_uri": "https://localhost:8080/"
        },
        "id": "oWXUUc0d7-jv",
        "outputId": "3c9af227-9951-415f-c065-b8bc5ddb3652"
      },
      "source": [
        "import numpy\n",
        "\n",
        "#crea vectores y los despliega\n",
        "a=(numpy.random.random([5])*10).round(0)\n",
        "b=(numpy.random.random([5])*10).round(0)\n",
        "\n",
        "print(a)\n",
        "print(b)\n",
        "\n",
        "#calcula producto punto\n",
        "pdto_pto=0\n",
        "for i in range(0, a.size):\n",
        "    pdto_pto += a[i]*b[i]\n",
        "\n",
        "print(f\"El producto punto es igual a {pdto_pto}\")"
      ],
      "execution_count": null,
      "outputs": [
        {
          "output_type": "stream",
          "text": [
            "[0. 7. 2. 5. 4.]\n",
            "[0. 8. 5. 4. 4.]\n",
            "El producto punto es igual a 102.0\n"
          ],
          "name": "stdout"
        }
      ]
    },
    {
      "cell_type": "markdown",
      "metadata": {
        "id": "QyqpoJpq7-1m"
      },
      "source": [
        "# Ejerccicio 8\n",
        "\n",
        "Las agencias de pluviometría de las ciudades de Santiago y Mendoza sospechan que el cambio climático podría estar alterando el patrón de  precipitaciones de estas ciudades, haciéndolas más parecidas en términos de ocurrencias de lluvias. Para verificar esta sospecha ambas agencias registraron la existencia de lluvias para cada día del año 2017. \n",
        "Las agencias necesitan que construyas un programa en Python que despliegue por pantalla el número de días del año 2017 en que en ambas ciudades se presentó el mismo patrón de lluvias (es decir, en ambas llovió el mismo día o en ambas no llovió el mismo día). Para esto, el programa debe manejar dos arreglos unidimensionales (llamados Santiago y Mendoza) de 365 casillas cada uno. La casilla 0 representa el 1 de Enero, la casilla 1 el 2 de Enero y así sucesivamente. En cada casilla se almacena un 1 si hubo lluvias y 0 si no las hubo. \n",
        "Escribe un programa que despliegue por pantalla el número de días en que llovió en ambas ciudades simultáneamente y el número de días en que no llovió en ambas ciudades simultáneamente ciudades. Emula el contenido de los arreglos generando el contenido de manera aleatoria.\n"
      ]
    },
    {
      "cell_type": "code",
      "metadata": {
        "colab": {
          "base_uri": "https://localhost:8080/"
        },
        "id": "YXfRuloZ7_NG",
        "outputId": "3bb53f4d-ccea-4095-bab7-0c4c97a79fd2"
      },
      "source": [
        "import numpy\n",
        "\n",
        "#crea arreglos Santiago y mendoza con registros (1: lluvia, 0: no lluvia)\n",
        "Santiago=(numpy.random.random([365])).round(0)\n",
        "Mendoza=(numpy.random.random([365])).round(0)\n",
        "\n",
        "print(Santiago)\n",
        "print(Mendoza)\n",
        "\n",
        "#contador de dias en que llovio en ambas ciudades\n",
        "lluvia=0\n",
        "\n",
        "#contador de dias en que no llovio en ambas ciudades\n",
        "no_lluvia=0\n",
        "\n",
        "#recorre arreglos y cuenta los dias con igual patron\n",
        "for i in range(0,Santiago.size):\n",
        "  if(Santiago[i]==Mendoza[i] and Santiago[i]==0):\n",
        "          no_lluvia=no_lluvia+1\n",
        "  if(Santiago[i]==Mendoza[i] and Santiago[i]==1):\n",
        "          lluvia=lluvia+1\n",
        "\n",
        "print(f\"LLovio en ambas ciudades: {lluvia} dias\")\n",
        "print(f\"No lLovio en ambas ciudades: {no_lluvia} dias\")\n"
      ],
      "execution_count": null,
      "outputs": [
        {
          "output_type": "stream",
          "text": [
            "[1. 1. 1. 1. 0. 0. 0. 1. 1. 0. 0. 0. 0. 0. 0. 1. 0. 1. 1. 0. 1. 1. 1. 1.\n",
            " 0. 0. 1. 0. 1. 1. 1. 0. 1. 1. 1. 0. 1. 0. 0. 0. 0. 0. 1. 0. 0. 1. 0. 1.\n",
            " 0. 0. 0. 1. 0. 0. 0. 1. 1. 1. 0. 0. 0. 1. 0. 0. 1. 1. 0. 0. 0. 1. 1. 1.\n",
            " 0. 0. 1. 0. 0. 0. 1. 0. 1. 0. 0. 1. 1. 0. 1. 1. 1. 1. 0. 0. 0. 0. 0. 0.\n",
            " 1. 0. 0. 0. 1. 0. 0. 0. 0. 1. 1. 1. 0. 1. 0. 1. 0. 0. 0. 1. 0. 0. 0. 1.\n",
            " 1. 0. 1. 1. 0. 1. 0. 1. 1. 0. 0. 1. 0. 0. 0. 1. 0. 1. 1. 1. 1. 1. 0. 0.\n",
            " 0. 0. 1. 1. 1. 0. 0. 0. 0. 0. 1. 0. 1. 0. 0. 0. 0. 0. 0. 0. 1. 1. 0. 0.\n",
            " 1. 0. 1. 0. 0. 0. 1. 1. 0. 0. 0. 1. 1. 0. 0. 1. 1. 1. 1. 1. 0. 1. 0. 1.\n",
            " 0. 1. 1. 0. 0. 1. 1. 0. 0. 0. 0. 1. 1. 0. 0. 1. 0. 0. 0. 1. 1. 1. 0. 1.\n",
            " 0. 0. 1. 1. 0. 0. 0. 1. 0. 1. 1. 1. 0. 0. 0. 0. 1. 1. 1. 0. 1. 0. 0. 0.\n",
            " 1. 1. 0. 0. 1. 1. 0. 0. 0. 1. 0. 1. 1. 0. 1. 0. 1. 0. 0. 1. 1. 1. 1. 0.\n",
            " 1. 1. 0. 0. 1. 0. 0. 0. 1. 0. 1. 0. 0. 0. 0. 0. 1. 0. 1. 1. 1. 0. 1. 0.\n",
            " 0. 0. 1. 1. 0. 1. 1. 0. 0. 0. 0. 1. 0. 0. 0. 0. 0. 1. 0. 0. 0. 0. 1. 0.\n",
            " 1. 1. 1. 0. 0. 1. 1. 1. 0. 1. 0. 0. 0. 0. 1. 0. 1. 1. 1. 1. 1. 1. 0. 0.\n",
            " 1. 0. 1. 0. 0. 1. 0. 1. 1. 0. 0. 0. 1. 0. 0. 1. 1. 1. 0. 0. 0. 0. 0. 1.\n",
            " 1. 1. 1. 0. 1.]\n",
            "[0. 0. 0. 1. 1. 0. 0. 0. 1. 1. 0. 1. 1. 1. 1. 0. 0. 1. 1. 0. 1. 1. 0. 1.\n",
            " 1. 0. 1. 0. 0. 1. 1. 0. 0. 1. 0. 1. 0. 0. 1. 1. 0. 1. 0. 1. 0. 0. 1. 0.\n",
            " 1. 0. 0. 1. 1. 0. 1. 1. 0. 1. 0. 0. 0. 0. 0. 0. 1. 0. 1. 1. 0. 0. 1. 1.\n",
            " 1. 1. 1. 1. 1. 0. 0. 0. 0. 1. 1. 1. 1. 1. 1. 1. 0. 1. 1. 1. 1. 1. 0. 1.\n",
            " 1. 1. 0. 1. 1. 1. 1. 1. 0. 1. 1. 1. 0. 0. 1. 0. 0. 0. 1. 1. 0. 1. 0. 1.\n",
            " 1. 0. 1. 1. 1. 1. 1. 0. 0. 0. 1. 1. 1. 1. 1. 0. 0. 0. 0. 0. 0. 1. 0. 0.\n",
            " 1. 0. 1. 0. 0. 0. 0. 1. 0. 0. 1. 0. 1. 1. 0. 0. 1. 1. 0. 0. 0. 0. 1. 0.\n",
            " 0. 1. 0. 0. 0. 0. 1. 0. 1. 1. 0. 0. 0. 1. 1. 0. 1. 1. 1. 1. 0. 0. 0. 1.\n",
            " 1. 1. 0. 1. 0. 1. 1. 0. 0. 1. 0. 0. 1. 0. 0. 1. 0. 1. 0. 1. 1. 0. 1. 0.\n",
            " 0. 0. 1. 1. 0. 1. 1. 1. 1. 0. 1. 1. 1. 0. 0. 0. 0. 0. 1. 0. 0. 1. 0. 0.\n",
            " 0. 0. 0. 1. 1. 1. 0. 0. 1. 0. 1. 0. 1. 0. 1. 0. 0. 0. 0. 0. 0. 0. 1. 0.\n",
            " 0. 0. 1. 0. 0. 0. 1. 0. 1. 0. 0. 0. 0. 1. 1. 1. 1. 0. 1. 1. 1. 1. 1. 1.\n",
            " 1. 0. 1. 0. 1. 1. 0. 0. 1. 1. 1. 0. 0. 1. 1. 0. 0. 1. 0. 0. 1. 0. 0. 0.\n",
            " 1. 1. 0. 1. 0. 0. 1. 0. 0. 1. 1. 0. 1. 0. 1. 0. 0. 0. 1. 0. 1. 0. 0. 1.\n",
            " 0. 1. 0. 1. 1. 0. 0. 0. 0. 0. 1. 1. 1. 0. 1. 1. 1. 1. 0. 1. 1. 1. 1. 1.\n",
            " 1. 1. 0. 0. 0.]\n",
            "LLovio en ambas ciudades: 86 dias\n",
            "No lLovio en ambas ciudades: 104 dias\n"
          ],
          "name": "stdout"
        }
      ]
    },
    {
      "cell_type": "markdown",
      "metadata": {
        "id": "a2VHimBl7_oS"
      },
      "source": [
        "# Ejercicio 9\n",
        "\n",
        "Escribe el código en Python que despliega en pantalla el número de veces que aparece cada número contenido en un arreglo 1D de 20 elementos enteros.  El arreglo se llena con números enteros aleatorios entre 0 y 5. Por ejemplo:\n",
        "\n",
        "[2. 1. 2. 1. 3. 2. 2. 5. 3. 2. 3. 2. 3. 0. 1. 2. 3. 2. 3. 3.]\n",
        "\n",
        "\n",
        "* Frecuencia del numero  2.0 :  8\n",
        "* Frecuencia del numero  1.0 :  3\n",
        "* Frecuencia del numero  3.0 :  7\n",
        "* Frecuencia del numero  5.0 :  1\n",
        "* Frecuencia del numero  0.0 :  1\n"
      ]
    },
    {
      "cell_type": "code",
      "metadata": {
        "colab": {
          "base_uri": "https://localhost:8080/"
        },
        "id": "fhZNjvw_7_3Y",
        "outputId": "9a3a5b84-ef45-4647-f88b-15522edbbe40"
      },
      "source": [
        "import numpy\n",
        "\n",
        "#crea arreglo\n",
        "a = (numpy.random.random([20])*5).round(0)\n",
        "print(a)\n",
        "\n",
        "#recorre arreglo, cada vez compara con el resto de los numeros\n",
        "for i in range(0, a.size-1):\n",
        "    iguales=0\n",
        "    #verifica que el numero a[i] no haya sido revisado antes\n",
        "    revisar= True\n",
        "    for k in range(0,i):\n",
        "        if(a[i]==a[k]):\n",
        "                revisar= False\n",
        "    #calcula frecuencia solo si el numero es \"nuevo\"\n",
        "    if revisar :\n",
        "        for j in range(i,a.size):\n",
        "            if a[i]==a[j] and revisar==1:\n",
        "                iguales=iguales+1\n",
        "        print(f\"Frecuencia del numero {a[i]}: \",iguales)\n"
      ],
      "execution_count": null,
      "outputs": [
        {
          "output_type": "stream",
          "text": [
            "[2. 4. 4. 1. 3. 2. 3. 0. 5. 2. 2. 5. 4. 1. 2. 1. 3. 4. 2. 3.]\n",
            "Frecuencia del numero 2.0:  6\n",
            "Frecuencia del numero 4.0:  4\n",
            "Frecuencia del numero 1.0:  3\n",
            "Frecuencia del numero 3.0:  4\n",
            "Frecuencia del numero 0.0:  1\n",
            "Frecuencia del numero 5.0:  2\n"
          ],
          "name": "stdout"
        }
      ]
    },
    {
      "cell_type": "markdown",
      "metadata": {
        "id": "JtPGifX29JPg"
      },
      "source": [
        "# Ejercicio 10\n",
        "Cree una función llamada compara que retorne Verdadero si los elementos de dos arreglos pasados como parámetros son iguales, Falso de lo contrario. Un ejemplo de llamada es:"
      ]
    },
    {
      "cell_type": "code",
      "metadata": {
        "colab": {
          "base_uri": "https://localhost:8080/"
        },
        "id": "pZRcK2Ms9Jlg",
        "outputId": "582e4449-4c92-4844-e81e-8ed0d8b7067c"
      },
      "source": [
        "import numpy as np\n",
        "\n",
        "def compara(a, b):\n",
        "  return np.all(a==b)\n",
        "\n",
        "a = [1, 2, 3, 4]\n",
        "b = [1, 2, 3, 4]\n",
        "c = [1, 2, 3, 5]\n",
        "\n",
        "print(compara(a, b)) # True\n",
        "print(compara(a, c)) # False\n",
        "\n",
        "\n",
        "\n"
      ],
      "execution_count": null,
      "outputs": [
        {
          "output_type": "stream",
          "text": [
            "True\n",
            "False\n"
          ],
          "name": "stdout"
        }
      ]
    },
    {
      "cell_type": "markdown",
      "metadata": {
        "id": "m6eZszS89J4Z"
      },
      "source": [
        "# Ejercicio 11\n",
        "El siguiente código se usa para clasificar a personas según su índice de masa corporal (IMC). \n",
        "```\n",
        "import numpy as np\n",
        "\n",
        "altura = [5.23, 7.17, 5.45, 5.98, 6.02]\n",
        "peso = [135, 164, 137, 156, 161]\n",
        "\n",
        "print(imc(altura, peso))\n",
        "\n",
        "```\n",
        "Implemente la función imc que recibe como parámetros una lista de alturas y otro de peso y retorna el índice de masa corporal para cada una de las personas. El imc se calcula como (peso en kilos)/(altura_en_metros^2).\n",
        "\n"
      ]
    },
    {
      "cell_type": "code",
      "metadata": {
        "id": "hV14s--P9KPQ"
      },
      "source": [
        "import numpy as np\n",
        " \n",
        "def imc(altura, peso, sistema='metrico'):\n",
        "  np_altura_m = np.array(altura)\n",
        "  np_peso_kg = np.array(peso)\n",
        "\n",
        "  indice = np_peso_kg / (np_altura_m ** 2)\n",
        "  return indice\n",
        "\n",
        "altura = [5.23, 7.17, 5.45, 5.98, 6.02]\n",
        "peso = [135, 164, 137, 156, 161]\n",
        " \n",
        "print(imc(altura, peso))\n",
        "\n"
      ],
      "execution_count": null,
      "outputs": []
    },
    {
      "cell_type": "markdown",
      "metadata": {
        "id": "AdfOzxVx9KmH"
      },
      "source": [
        "# Ejercicio 12\n",
        "\n",
        "Al usar el código de la pregunta anterior, un nutricionista se dio cuenta que tenía datos tanto en el sistema métrico como en el imperial (como en el ejemplo). Dado eso, se les pide que agreguen un parámetro más a la función que diga que tipo de sistema de medición se usa, y si los datos están en el sistema imperial entonces los transforme a métrico. La altura se transforma multiplicando por 0.254 y el peso multiplicando por 0.453592. El código del ejemplo anterior quedaría de la siguiente forma:\n",
        "```\n",
        "import numpy as np\n",
        "\n",
        "altura = [5.23, 7.17, 5.45, 5.98, 6.02]\n",
        "peso = [135, 164, 137, 156, 161]\n",
        "\n",
        "print(imc(altura, peso, 'imperial'))\n",
        "```\n"
      ]
    },
    {
      "cell_type": "code",
      "metadata": {
        "id": "WCZA2pRO9LC-"
      },
      "source": [
        "import numpy as np\n",
        " \n",
        "def imc(altura, peso, sistema='metrico'):\n",
        "  np_altura_m = np.array(altura)\n",
        "  np_peso_kg = np.array(peso)\n",
        "  if 'imperial' == sistema:\n",
        "    np_altura_m = np_altura_m * 0.254\n",
        "    np_peso_kg = np_peso_kg * 0.453592\n",
        "\n",
        "  indice = np_peso_kg / (np_altura_m ** 2)\n",
        "\n",
        "  return indice \n",
        "\n",
        "altura = [5.23, 7.17, 5.45, 5.98, 6.02]\n",
        "peso = [135, 164, 137, 156, 161]\n",
        "\n",
        "print(imc(altura, peso, 'imperial'))\n"
      ],
      "execution_count": null,
      "outputs": []
    },
    {
      "cell_type": "markdown",
      "metadata": {
        "id": "-G-sSGSh9LQz"
      },
      "source": [
        "# Ejercicio 13\n",
        "Imaginese un arreglo de tamaño num y hay una mosca en la posición pos. La mosca se mueve en forma aleatoria (al azar) a la izquierda, a la derecha, o se queda quieta. En caso que la mosca se salga del arreglo, la mosca es atrapada por una araña. \n",
        "Para modelar el comportamiento de la mosca, ustede genera un número aleatorio entre 0 y 1, si el numero es menor a 0.33, entonces la mosca se mueve a la izquierda, en caso que sea un número entre 0.33 y 0.66, se mantiene quieta, y si es mayor a 0.66 se mueve a la derecha.\n",
        "Cree una función que reciba num y pos e itere hasta que la mosca sea atrapada por alguna araña. Luego, muestre por pantalla el número de veces que la mosca estuvo en cada posición y el número total de movimientos realizados.\n",
        "Sea I = Izquierda, D = derecha, y Q = quieto. Un ejemplo, para un arreglo de tamaño 5, con la mosca en posición inicial 2 y realizó los siguientes movimientos: D I I I D Q Q I  hubiera impreso por pantalla lo siguiente: 2 3 2 1 0\n",
        "El número total de movimientos fue: 8"
      ]
    },
    {
      "cell_type": "code",
      "metadata": {
        "colab": {
          "base_uri": "https://localhost:8080/"
        },
        "id": "YF7tXSgj9Lg3",
        "outputId": "bbcfe434-104a-4a83-f389-4a16435b35da"
      },
      "source": [
        "import numpy\n",
        "import random\n",
        "def mosca(num,pos):    \n",
        "  arreglo=numpy.zeros(num)    \n",
        "  while pos>=0 and pos<len(arreglo):        \n",
        "    arreglo[pos] += 1        \n",
        "    temp=random.random()\n",
        "    if temp<0.33:\n",
        "      pos=pos-1\n",
        "    elif temp>0.66:\n",
        "      pos=pos+1\n",
        "  print(arreglo)\n",
        "  print(\"el numero de movimientos es \", arreglo.sum())\n",
        "mosca(5,2)\n"
      ],
      "execution_count": null,
      "outputs": [
        {
          "output_type": "stream",
          "text": [
            "[0. 0. 4. 6. 5.]\n",
            "el numero de movimientos es  15.0\n"
          ],
          "name": "stdout"
        }
      ]
    }
  ]
}