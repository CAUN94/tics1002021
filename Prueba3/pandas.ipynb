{
  "nbformat": 4,
  "nbformat_minor": 0,
  "metadata": {
    "colab": {
      "name": "pandas.ipynb",
      "provenance": []
    },
    "kernelspec": {
      "name": "python3",
      "display_name": "Python 3"
    },
    "language_info": {
      "name": "python"
    }
  },
  "cells": [
    {
      "cell_type": "markdown",
      "metadata": {
        "id": "_HZJZUjX_Xoz"
      },
      "source": [
        "Para este ejercicios usaremos el csv de atletas"
      ]
    },
    {
      "cell_type": "markdown",
      "metadata": {
        "id": "8EthtjLQ_gqs"
      },
      "source": [
        "# Ejercicio 1\n",
        "Generar un dataframe con sólo tres columnas: el nombre, el sexo y la edad. Los nombres no deben repetirse\n"
      ]
    },
    {
      "cell_type": "code",
      "metadata": {
        "id": "kqp4d2hA_e0l"
      },
      "source": [
        ""
      ],
      "execution_count": null,
      "outputs": []
    },
    {
      "cell_type": "markdown",
      "metadata": {
        "id": "wpu5LmZ0_fhh"
      },
      "source": [
        "# Ejercicio 2\n",
        "\n",
        "¿Cuántos atletas han competido en las olimpiadas?"
      ]
    },
    {
      "cell_type": "code",
      "metadata": {
        "id": "W6vzM8_F_Q2Z"
      },
      "source": [
        ""
      ],
      "execution_count": null,
      "outputs": []
    },
    {
      "cell_type": "markdown",
      "metadata": {
        "id": "G0Y-B1xQ_Y3F"
      },
      "source": [
        "# Ejercicio 3\n",
        "\n",
        "¿Cuál es el país con más medallas?"
      ]
    },
    {
      "cell_type": "code",
      "metadata": {
        "id": "i-IVaYqD_XQS"
      },
      "source": [
        ""
      ],
      "execution_count": null,
      "outputs": []
    },
    {
      "cell_type": "markdown",
      "metadata": {
        "id": "0nkxMvtZ_ZU8"
      },
      "source": [
        "# Ejercicio 4\n",
        "\n",
        "¿Cuál es el país con más medallas de oro?"
      ]
    },
    {
      "cell_type": "code",
      "metadata": {
        "id": "pjMn2BFq_Ztw"
      },
      "source": [
        ""
      ],
      "execution_count": null,
      "outputs": []
    },
    {
      "cell_type": "markdown",
      "metadata": {
        "id": "Ag92d3o6_Z7Z"
      },
      "source": [
        "# Ejercicio 5\n",
        "\n",
        "¿Cuál es el peso promedio de los hombres desde 1980 en adelante?"
      ]
    },
    {
      "cell_type": "code",
      "metadata": {
        "id": "jc5dNsIA_aRH"
      },
      "source": [
        ""
      ],
      "execution_count": null,
      "outputs": []
    },
    {
      "cell_type": "markdown",
      "metadata": {
        "id": "j2MQaVOvAe80"
      },
      "source": [
        "# Ejercicio 6\n",
        "¿Cuál es el peso promedio de las mujeres desde 1980 en adelante?"
      ]
    },
    {
      "cell_type": "code",
      "metadata": {
        "id": "cx0SlZKfAeiX"
      },
      "source": [
        ""
      ],
      "execution_count": null,
      "outputs": []
    },
    {
      "cell_type": "markdown",
      "metadata": {
        "id": "iUhi_HHhBBQL"
      },
      "source": [
        "# Ejercicio 7\n",
        "¿Cuál es el país con más mujeres ganadoras de medalla?"
      ]
    },
    {
      "cell_type": "code",
      "metadata": {
        "id": "2tin1jU3BJB3"
      },
      "source": [
        ""
      ],
      "execution_count": null,
      "outputs": []
    },
    {
      "cell_type": "markdown",
      "metadata": {
        "id": "CggPIw6oBJbA"
      },
      "source": [
        "# Ejercicio 8\n",
        "¿Cuál (o cuales) son los deportes con más apariciones en los juegos olímpicos?"
      ]
    },
    {
      "cell_type": "code",
      "metadata": {
        "id": "Dgn5LtdnBJsn"
      },
      "source": [
        ""
      ],
      "execution_count": null,
      "outputs": []
    },
    {
      "cell_type": "markdown",
      "metadata": {
        "id": "XWXNbUccBKI_"
      },
      "source": [
        "# Ejercicio 9\n",
        "¿Cuál es el atleta con más apariciones en los juegos olímpicos?"
      ]
    },
    {
      "cell_type": "code",
      "metadata": {
        "id": "N1mvlq5zBK4o"
      },
      "source": [
        ""
      ],
      "execution_count": null,
      "outputs": []
    },
    {
      "cell_type": "markdown",
      "metadata": {
        "id": "vyjMcH_cBLiQ"
      },
      "source": [
        "# Ejercicio 10\n",
        "¿Hay algún deporte que haya dejado de practicarse por un tiempo, y luego volvió a practicarse? ¿Cuál/cuales? ¿Podría explicar porqué?"
      ]
    },
    {
      "cell_type": "code",
      "metadata": {
        "id": "wJuhXqzmBL2t"
      },
      "source": [
        ""
      ],
      "execution_count": null,
      "outputs": []
    }
  ]
}