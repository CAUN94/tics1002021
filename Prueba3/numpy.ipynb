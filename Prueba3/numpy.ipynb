{
  "nbformat": 4,
  "nbformat_minor": 0,
  "metadata": {
    "colab": {
      "name": "numpy.ipynb",
      "provenance": []
    },
    "kernelspec": {
      "name": "python3",
      "display_name": "Python 3"
    },
    "language_info": {
      "name": "python"
    }
  },
  "cells": [
    {
      "cell_type": "markdown",
      "metadata": {
        "id": "3U7M2Xsy7g52"
      },
      "source": [
        "# Ejercicio 1\n",
        "Crea un arreglo de 100 números aleatorios y luego modifica el arreglo con los valores desplazados, de tal forma que el mayor sea 1. Es decir, si el arreglo de números aleatorios tiene como valor máximo el 0.7, entonces debes sumarle a cada elemento 0.3. Luego imprime el arreglo en pantalla.\n"
      ]
    },
    {
      "cell_type": "code",
      "metadata": {
        "id": "881xZECo72YU"
      },
      "source": [
        ""
      ],
      "execution_count": null,
      "outputs": []
    },
    {
      "cell_type": "markdown",
      "metadata": {
        "id": "tmGpWJyc73PW"
      },
      "source": [
        "# Ejercicio 2\n",
        "\n",
        "Crea un arreglo de 100 números aleatorios y modifica el arreglo de tal forma que el promedio esté en cero. Luego cuenta cuantos valores hay sobre cero y cuantos bajo cero, e imprime eso en pantalla.\n"
      ]
    },
    {
      "cell_type": "code",
      "metadata": {
        "id": "50i3hNCZ77R0"
      },
      "source": [
        ""
      ],
      "execution_count": null,
      "outputs": []
    },
    {
      "cell_type": "markdown",
      "metadata": {
        "id": "1uwTbEj877yv"
      },
      "source": [
        "# Ejercicio 3\n",
        "Crea un arreglo de 100 números aleatorios y suma solamente aquellos valores que sean mayores a 0.5."
      ]
    },
    {
      "cell_type": "code",
      "metadata": {
        "id": "qSO9iID278HD"
      },
      "source": [
        ""
      ],
      "execution_count": null,
      "outputs": []
    },
    {
      "cell_type": "markdown",
      "metadata": {
        "id": "9-RNTAyp78Xh"
      },
      "source": [
        "# Ejercicio 4\n",
        "Crea un arreglo de 100 números enteros aleatorios entre 1 y 10000 y encuentra el más cercano a 6543. Imprime el valor en pantalla."
      ]
    },
    {
      "cell_type": "code",
      "metadata": {
        "id": "Qf_jkwU278sN"
      },
      "source": [
        ""
      ],
      "execution_count": null,
      "outputs": []
    },
    {
      "cell_type": "markdown",
      "metadata": {
        "id": "Ek1_P0yj79HH"
      },
      "source": [
        "# Ejercicio 5\n",
        "Crea un arreglo de tamaño 100 con número aleatorios, retorna el valor máximo y luego reemplaza el valor en la posición del máximo en el arreglo por un cero."
      ]
    },
    {
      "cell_type": "code",
      "metadata": {
        "id": "1e7RH6XM79df"
      },
      "source": [
        ""
      ],
      "execution_count": null,
      "outputs": []
    },
    {
      "cell_type": "markdown",
      "metadata": {
        "id": "fSTjOWRY79pw"
      },
      "source": [
        "# Ejercicio 6\n",
        "Escribe el código en Python que crea un arreglo 1D de 10 elementos con valores aleatorios enteros entre 0 y 9 y que despliegue el contenido del arreglo, así como el número de valles y crestas contenidos en el. Se definen como valles los números que son menores que sus dos vecinos inmediatos en el arreglo (a izquierda y derecha). Se definen como crestas los números que son mayores que sus dos vecinos inmediatos (a izquierda y derecha) en el arreglo. Por ejemplo:"
      ]
    },
    {
      "cell_type": "code",
      "metadata": {
        "id": "6W7419zS796X"
      },
      "source": [
        ""
      ],
      "execution_count": null,
      "outputs": []
    },
    {
      "cell_type": "markdown",
      "metadata": {
        "id": "PpBisxv-7-Sp"
      },
      "source": [
        "# Ejercicio 7\n",
        "Escribe el código Python que calcula el producto punto entre dos vectores a y b de largo 5. Los vectores se crean aleatoriamente. \n",
        "Por ejemplo:\n",
        "[2  9  3  10 10]\n",
        "[3  7  5  1  6]\n",
        "El producto punto es igual a  154.0\n"
      ]
    },
    {
      "cell_type": "code",
      "metadata": {
        "id": "oWXUUc0d7-jv"
      },
      "source": [
        ""
      ],
      "execution_count": null,
      "outputs": []
    },
    {
      "cell_type": "markdown",
      "metadata": {
        "id": "QyqpoJpq7-1m"
      },
      "source": [
        "# Ejerccicio 8\n",
        "\n",
        "Las agencias de pluviometría de las ciudades de Santiago y Mendoza sospechan que el cambio climático podría estar alterando el patrón de  precipitaciones de estas ciudades, haciéndolas más parecidas en términos de ocurrencias de lluvias. Para verificar esta sospecha ambas agencias registraron la existencia de lluvias para cada día del año 2017. \n",
        "Las agencias necesitan que construyas un programa en Python que despliegue por pantalla el número de días del año 2017 en que en ambas ciudades se presentó el mismo patrón de lluvias (es decir, en ambas llovió el mismo día o en ambas no llovió el mismo día). Para esto, el programa debe manejar dos arreglos unidimensionales (llamados Santiago y Mendoza) de 365 casillas cada uno. La casilla 0 representa el 1 de Enero, la casilla 1 el 2 de Enero y así sucesivamente. En cada casilla se almacena un 1 si hubo lluvias y 0 si no las hubo. \n",
        "Escribe un programa que despliegue por pantalla el número de días en que llovió en ambas ciudades simultáneamente y el número de días en que no llovió en ambas ciudades simultáneamente ciudades. Emula el contenido de los arreglos generando el contenido de manera aleatoria.\n"
      ]
    },
    {
      "cell_type": "code",
      "metadata": {
        "id": "YXfRuloZ7_NG"
      },
      "source": [
        ""
      ],
      "execution_count": null,
      "outputs": []
    },
    {
      "cell_type": "markdown",
      "metadata": {
        "id": "a2VHimBl7_oS"
      },
      "source": [
        "# Ejercicio 9\n",
        "\n",
        "Escribe el código en Python que despliega en pantalla el número de veces que aparece cada número contenido en un arreglo 1D de 20 elementos enteros.  El arreglo se llena con números enteros aleatorios entre 0 y 5. Por ejemplo:\n",
        "\n",
        "[2. 1. 2. 1. 3. 2. 2. 5. 3. 2. 3. 2. 3. 0. 1. 2. 3. 2. 3. 3.]\n",
        "Frecuencia del numero  2.0 :  8\n",
        "Frecuencia del numero  1.0 :  3\n",
        "Frecuencia del numero  3.0 :  7\n",
        "Frecuencia del numero  5.0 :  1\n",
        "Frecuencia del numero  0.0 :  1\n"
      ]
    },
    {
      "cell_type": "code",
      "metadata": {
        "id": "fhZNjvw_7_3Y"
      },
      "source": [
        ""
      ],
      "execution_count": null,
      "outputs": []
    },
    {
      "cell_type": "markdown",
      "metadata": {
        "id": "JtPGifX29JPg"
      },
      "source": [
        "# Ejercicio 10\n",
        "Cree una función llamada compara que retorne Verdadero si los elementos de dos arreglos pasados como parámetros son iguales, Falso de lo contrario. Un ejemplo de llamada es:"
      ]
    },
    {
      "cell_type": "code",
      "metadata": {
        "id": "pZRcK2Ms9Jlg"
      },
      "source": [
        ""
      ],
      "execution_count": null,
      "outputs": []
    },
    {
      "cell_type": "markdown",
      "metadata": {
        "id": "m6eZszS89J4Z"
      },
      "source": [
        "# Ejercicio 11\n",
        "El siguiente código se usa para clasificar a personas según su índice de masa corporal (IMC). \n",
        "```\n",
        "import numpy as np\n",
        "\n",
        "altura = [5.23, 7.17, 5.45, 5.98, 6.02]\n",
        "peso = [135, 164, 137, 156, 161]\n",
        "\n",
        "print(imc(altura, peso))\n",
        "\n",
        "```\n",
        "Implemente la función imc que recibe como parámetros una lista de alturas y otro de peso y retorna el índice de masa corporal para cada una de las personas. El imc se calcula como (peso en kilos)/(altura_en_metros^2).\n",
        "\n"
      ]
    },
    {
      "cell_type": "code",
      "metadata": {
        "id": "hV14s--P9KPQ"
      },
      "source": [
        ""
      ],
      "execution_count": null,
      "outputs": []
    },
    {
      "cell_type": "markdown",
      "metadata": {
        "id": "AdfOzxVx9KmH"
      },
      "source": [
        "# Ejercicio 12\n",
        "\n",
        "Al usar el código de la pregunta anterior, un nutricionista se dio cuenta que tenía datos tanto en el sistema métrico como en el imperial (como en el ejemplo). Dado eso, se les pide que agreguen un parámetro más a la función que diga que tipo de sistema de medición se usa, y si los datos están en el sistema imperial entonces los transforme a métrico. La altura se transforma multiplicando por 0.254 y el peso multiplicando por 0.453592. El código del ejemplo anterior quedaría de la siguiente forma:\n",
        "```\n",
        "import numpy as np\n",
        "\n",
        "altura = [5.23, 7.17, 5.45, 5.98, 6.02]\n",
        "peso = [135, 164, 137, 156, 161]\n",
        "\n",
        "print(imc(altura, peso, 'imperial'))\n",
        "```\n"
      ]
    },
    {
      "cell_type": "code",
      "metadata": {
        "id": "WCZA2pRO9LC-"
      },
      "source": [
        ""
      ],
      "execution_count": null,
      "outputs": []
    },
    {
      "cell_type": "markdown",
      "metadata": {
        "id": "-G-sSGSh9LQz"
      },
      "source": [
        "# Ejercicio 13\n",
        "Imaginese un arreglo de tamaño num y hay una mosca en la posición pos. La mosca se mueve en forma aleatoria (al azar) a la izquierda, a la derecha, o se queda quieta. En caso que la mosca se salga del arreglo, la mosca es atrapada por una araña. \n",
        "Para modelar el comportamiento de la mosca, ustede genera un número aleatorio entre 0 y 1, si el numero es menor a 0.33, entonces la mosca se mueve a la izquierda, en caso que sea un número entre 0.33 y 0.66, se mantiene quieta, y si es mayor a 0.66 se mueve a la derecha.\n",
        "Cree una función que reciba num y pos e itere hasta que la mosca sea atrapada por alguna araña. Luego, muestre por pantalla el número de veces que la mosca estuvo en cada posición y el número total de movimientos realizados.\n",
        "Sea I = Izquierda, D = derecha, y Q = quieto. Un ejemplo, para un arreglo de tamaño 5, con la mosca en posición inicial 2 y realizó los siguientes movimientos: D I I I D Q Q I  hubiera impreso por pantalla lo siguiente: 2 3 2 1 0\n",
        "El número total de movimientos fue: 8"
      ]
    },
    {
      "cell_type": "code",
      "metadata": {
        "id": "YF7tXSgj9Lg3"
      },
      "source": [
        ""
      ],
      "execution_count": null,
      "outputs": []
    },
    {
      "cell_type": "markdown",
      "metadata": {
        "id": "rNXVZd3D9Lzg"
      },
      "source": [
        ""
      ]
    },
    {
      "cell_type": "code",
      "metadata": {
        "id": "UTcIxqfK9MHl"
      },
      "source": [
        ""
      ],
      "execution_count": null,
      "outputs": []
    },
    {
      "cell_type": "markdown",
      "metadata": {
        "id": "szbouaME9Mdp"
      },
      "source": [
        ""
      ]
    },
    {
      "cell_type": "code",
      "metadata": {
        "id": "oh-oJ6NZ9MsX"
      },
      "source": [
        ""
      ],
      "execution_count": null,
      "outputs": []
    },
    {
      "cell_type": "markdown",
      "metadata": {
        "id": "GrOkW88E9NKV"
      },
      "source": [
        ""
      ]
    },
    {
      "cell_type": "code",
      "metadata": {
        "id": "tmvFTg1U9Ns_"
      },
      "source": [
        ""
      ],
      "execution_count": null,
      "outputs": []
    }
  ]
}