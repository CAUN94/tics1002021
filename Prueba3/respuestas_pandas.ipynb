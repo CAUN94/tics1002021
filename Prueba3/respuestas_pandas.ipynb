{
  "nbformat": 4,
  "nbformat_minor": 0,
  "metadata": {
    "colab": {
      "name": "pandas.ipynb",
      "provenance": [],
      "collapsed_sections": []
    },
    "kernelspec": {
      "name": "python3",
      "display_name": "Python 3"
    },
    "language_info": {
      "name": "python"
    }
  },
  "cells": [
    {
      "cell_type": "markdown",
      "metadata": {
        "id": "_HZJZUjX_Xoz"
      },
      "source": [
        "Para este ejercicios usaremos el csv de atletas"
      ]
    },
    {
      "cell_type": "markdown",
      "metadata": {
        "id": "8EthtjLQ_gqs"
      },
      "source": [
        "# Ejercicio 1\n",
        "Generar un dataframe con sólo tres columnas: el nombre, el sexo y la edad. Los nombres no deben repetirse\n"
      ]
    },
    {
      "cell_type": "code",
      "metadata": {
        "id": "kqp4d2hA_e0l"
      },
      "source": [
        "import pandas as pd\n",
        "\n",
        "df = pd.read_csv('/content/athlete_events.csv')\n",
        "df = df[['Name','Sex','Age']]\n",
        "print(df.head(40))\n",
        "sdf = df.drop_duplicates(subset='Name', keep='first')\n",
        "print(sdf.head(40))\n"
      ],
      "execution_count": null,
      "outputs": []
    },
    {
      "cell_type": "markdown",
      "metadata": {
        "id": "wpu5LmZ0_fhh"
      },
      "source": [
        "# Ejercicio 2\n",
        "\n",
        "¿Cuántos atletas han competido en las olimpiadas?"
      ]
    },
    {
      "cell_type": "code",
      "metadata": {
        "colab": {
          "base_uri": "https://localhost:8080/"
        },
        "id": "W6vzM8_F_Q2Z",
        "outputId": "d5941f2d-61a5-4484-b6bd-7dc1e9ebdaeb"
      },
      "source": [
        "import pandas as pd\n",
        "\n",
        "df = pd.read_csv('/content/athlete_events.csv')\n",
        "print(len(df))\n",
        "df = df['Name'].unique()\n",
        "print(len(df))"
      ],
      "execution_count": null,
      "outputs": [
        {
          "output_type": "stream",
          "text": [
            "271116\n",
            "134732\n"
          ],
          "name": "stdout"
        }
      ]
    },
    {
      "cell_type": "markdown",
      "metadata": {
        "id": "G0Y-B1xQ_Y3F"
      },
      "source": [
        "# Ejercicio 3\n",
        "\n",
        "¿Cuál es el país con más medallas?"
      ]
    },
    {
      "cell_type": "code",
      "metadata": {
        "colab": {
          "base_uri": "https://localhost:8080/"
        },
        "id": "i-IVaYqD_XQS",
        "outputId": "1076d11c-136d-43df-c174-71ecb5d340ad"
      },
      "source": [
        "import pandas as pd\n",
        "import numpy as np\n",
        "\n",
        "\n",
        "df = pd.read_csv('athlete_events.csv')\n",
        "df = df[['Team','Medal']]\n",
        "df = df[df['Medal'].fillna('None') != 'None']\n",
        "df_team_unique = df['Team'].unique()\n",
        "\n",
        "df_array = df.to_numpy()\n",
        "\n",
        "max_country = df_team_unique[0]\n",
        "max_medal = 0\n",
        "\n",
        "for team in df_team_unique:\n",
        "  count = 0\n",
        "  for other_team in df_array:\n",
        "    if team == other_team[0] and other_team[1] != 'None':\n",
        "      count += 1\n",
        "  \n",
        "  if count>max_medal:\n",
        "    max_country = team\n",
        "    max_medal = count\n",
        "\n",
        "print(f\"{max_country} con {max_medal}\")\n",
        "\n"
      ],
      "execution_count": null,
      "outputs": [
        {
          "output_type": "stream",
          "text": [
            "United States con 5219\n"
          ],
          "name": "stdout"
        }
      ]
    },
    {
      "cell_type": "markdown",
      "metadata": {
        "id": "0nkxMvtZ_ZU8"
      },
      "source": [
        "# Ejercicio 4\n",
        "\n",
        "¿Cuál es el país con más medallas de oro?"
      ]
    },
    {
      "cell_type": "code",
      "metadata": {
        "colab": {
          "base_uri": "https://localhost:8080/"
        },
        "id": "pjMn2BFq_Ztw",
        "outputId": "7fa7561e-3383-4d3d-9692-d948076eed42"
      },
      "source": [
        "import pandas as pd\n",
        "import numpy as np\n",
        "\n",
        "\n",
        "df = pd.read_csv('athlete_events.csv')\n",
        "df = df[['Team','Medal']]\n",
        "df = df[df['Medal'].fillna('None') != 'None']\n",
        "df_team_unique = df['Team'].unique()\n",
        "\n",
        "df_array = df.to_numpy()\n",
        "\n",
        "max_country = df_team_unique[0]\n",
        "max_medal = 0\n",
        "\n",
        "for team in df_team_unique:\n",
        "  count = 0\n",
        "  for other_team in df_array:\n",
        "    if team == other_team[0] and other_team[1] == 'Gold':\n",
        "      count += 1\n",
        "  \n",
        "  if count>max_medal:\n",
        "    max_country = team\n",
        "    max_medal = count\n",
        "\n",
        "print(f\"{max_country} con {max_medal}\")\n",
        "\n"
      ],
      "execution_count": null,
      "outputs": [
        {
          "output_type": "stream",
          "text": [
            "United States con 2474\n"
          ],
          "name": "stdout"
        }
      ]
    },
    {
      "cell_type": "markdown",
      "metadata": {
        "id": "Ag92d3o6_Z7Z"
      },
      "source": [
        "# Ejercicio 5\n",
        "\n",
        "¿Cuál es el peso promedio de los hombres desde 1980 en adelante?"
      ]
    },
    {
      "cell_type": "code",
      "metadata": {
        "colab": {
          "base_uri": "https://localhost:8080/"
        },
        "id": "te1FuvxWlxjT",
        "outputId": "e76b55ed-b1d1-4d87-c291-c57dc0593b8a"
      },
      "source": [
        "import pandas as pd\n",
        "\n",
        "\n",
        "df = pd.read_csv('athlete_events.csv')\n",
        "df = df[(df['Sex'] == 'M') & (df['Year'] >= 1980)]\n",
        "\n",
        "print(df['Weight'].mean())"
      ],
      "execution_count": null,
      "outputs": [
        {
          "output_type": "stream",
          "text": [
            "77.12465246257632\n"
          ],
          "name": "stdout"
        }
      ]
    },
    {
      "cell_type": "markdown",
      "metadata": {
        "id": "j2MQaVOvAe80"
      },
      "source": [
        "# Ejercicio 6\n",
        "¿Cuál es el peso promedio de las mujeres desde 1980 en adelante?"
      ]
    },
    {
      "cell_type": "code",
      "metadata": {
        "colab": {
          "base_uri": "https://localhost:8080/"
        },
        "id": "cx0SlZKfAeiX",
        "outputId": "a878d06a-bae9-40a4-d697-fc97399a1999"
      },
      "source": [
        "import pandas as pd\n",
        "\n",
        "\n",
        "df = pd.read_csv('athlete_events.csv')\n",
        "df = df[(df['Sex'] == 'F') & (df['Year'] >= 1980)]\n",
        "\n",
        "print(df['Weight'].mean())"
      ],
      "execution_count": null,
      "outputs": [
        {
          "output_type": "stream",
          "text": [
            "60.49992752572837\n"
          ],
          "name": "stdout"
        }
      ]
    },
    {
      "cell_type": "markdown",
      "metadata": {
        "id": "iUhi_HHhBBQL"
      },
      "source": [
        "# Ejercicio 7\n",
        "¿Cuál es el país con más mujeres ganadoras de medalla?"
      ]
    },
    {
      "cell_type": "code",
      "metadata": {
        "colab": {
          "base_uri": "https://localhost:8080/"
        },
        "id": "2tin1jU3BJB3",
        "outputId": "b2ba24a8-3b4f-4d70-e8c4-70dfa19eca6c"
      },
      "source": [
        "import pandas as pd\n",
        "import numpy as np\n",
        "\n",
        "\n",
        "df = pd.read_csv('athlete_events.csv')\n",
        "df = df[(df['Sex'] == 'F')]\n",
        "df = df[['Team','Medal']]\n",
        "df = df[df['Medal'].fillna('None') != 'None']\n",
        "df_team_unique = df['Team'].unique()\n",
        "\n",
        "df_array = df.to_numpy()\n",
        "\n",
        "max_country = df_team_unique[0]\n",
        "max_medal = 0\n",
        "\n",
        "for team in df_team_unique:\n",
        "  count = 0\n",
        "  for other_team in df_array:\n",
        "    if team == other_team[0] and other_team[1] != 'None':\n",
        "      count += 1\n",
        "  \n",
        "  if count>max_medal:\n",
        "    max_country = team\n",
        "    max_medal = count\n",
        "\n",
        "print(f\"{max_country} con {max_medal}\")"
      ],
      "execution_count": null,
      "outputs": [
        {
          "output_type": "stream",
          "text": [
            "United States con 1756\n"
          ],
          "name": "stdout"
        }
      ]
    },
    {
      "cell_type": "markdown",
      "metadata": {
        "id": "CggPIw6oBJbA"
      },
      "source": [
        "# Ejercicio 8\n",
        "¿Cuál (o cuales) son los deportes con más apariciones en los juegos olímpicos?"
      ]
    },
    {
      "cell_type": "code",
      "metadata": {
        "colab": {
          "base_uri": "https://localhost:8080/"
        },
        "id": "Dgn5LtdnBJsn",
        "outputId": "49b6d7a3-826b-44ba-dd6e-36a7a23a05c7"
      },
      "source": [
        "import pandas as pd\n",
        "import numpy as np\n",
        "\n",
        "\n",
        "df = pd.read_csv('athlete_events.csv')\n",
        "df = df[['Sport']]\n",
        "df_team_unique = df['Sport'].unique()\n",
        "\n",
        "df_array = df.to_numpy()\n",
        "\n",
        "max_country = df_team_unique[0]\n",
        "max_medal = 0\n",
        "\n",
        "for team in df_team_unique:\n",
        "  count = 0\n",
        "  for other_team in df_array:\n",
        "    if team == other_team[0]:\n",
        "      count += 1\n",
        "  \n",
        "  if count>max_medal:\n",
        "    max_country = team\n",
        "    max_medal = count\n",
        "\n",
        "print(f\"{max_country} con {max_medal}\")"
      ],
      "execution_count": null,
      "outputs": [
        {
          "output_type": "stream",
          "text": [
            "Athletics con 38624\n"
          ],
          "name": "stdout"
        }
      ]
    },
    {
      "cell_type": "markdown",
      "metadata": {
        "id": "XWXNbUccBKI_"
      },
      "source": [
        "# Ejercicio 9\n",
        "¿Cuál es el atleta con más apariciones en los juegos olímpicos?"
      ]
    },
    {
      "cell_type": "code",
      "metadata": {
        "id": "N1mvlq5zBK4o"
      },
      "source": [
        ""
      ],
      "execution_count": null,
      "outputs": []
    },
    {
      "cell_type": "markdown",
      "metadata": {
        "id": "vyjMcH_cBLiQ"
      },
      "source": [
        "# Ejercicio 10\n",
        "¿Hay algún deporte que haya dejado de practicarse por un tiempo, y luego volvió a practicarse? ¿Cuál/cuales? ¿Podría explicar porqué?"
      ]
    },
    {
      "cell_type": "code",
      "metadata": {
        "id": "wJuhXqzmBL2t"
      },
      "source": [
        ""
      ],
      "execution_count": null,
      "outputs": []
    }
  ]
}