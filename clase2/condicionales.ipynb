{
  "nbformat": 4,
  "nbformat_minor": 0,
  "metadata": {
    "colab": {
      "name": "condicionales.ipynb",
      "provenance": []
    },
    "kernelspec": {
      "name": "python3",
      "display_name": "Python 3"
    }
  },
  "cells": [
    {
      "cell_type": "markdown",
      "metadata": {
        "id": "0Ffcam4Zw9H1"
      },
      "source": [
        "# Condicionales\n",
        "\n",
        "Existen una estructura de control en python utilizada para la toma de decisiones.\n",
        "- if: Condición inicial\n",
        "- elif: Condición que se revisa en caso de que la primera no funcione (se pueden usar todos los elif que quieras)\n",
        "- else: En caso de que ninguna condición se cumpla\n",
        "\n",
        "\n"
      ]
    },
    {
      "cell_type": "code",
      "metadata": {
        "colab": {
          "base_uri": "https://localhost:8080/"
        },
        "id": "1btRhgNSw7NL",
        "outputId": "1bf9a81b-7de5-4a9c-f3f8-ed7736d9d1f2"
      },
      "source": [
        "nr = int(input('Dame un nr: '))\n",
        "\n",
        "if nr > 0:\n",
        "  #Ojo que se debe indentar\n",
        "  print(f'El nr {nr} es positivo')\n"
      ],
      "execution_count": 2,
      "outputs": [
        {
          "output_type": "stream",
          "text": [
            "Dame un nr: -10\n",
            "El nr -10 es negativo\n"
          ],
          "name": "stdout"
        }
      ]
    },
    {
      "cell_type": "code",
      "metadata": {
        "id": "ZO-1OzY1zB2n"
      },
      "source": [
        "nr = int(input('Dame un nr: '))\n",
        "\n",
        "if nr > 0:\n",
        "  #Ojo que se debe indentar\n",
        "  print(f'El nr {nr} es positivo')\n",
        "elif nr == 0:\n",
        "  print(f'El nr {nr} es 0')\n"
      ],
      "execution_count": null,
      "outputs": []
    },
    {
      "cell_type": "code",
      "metadata": {
        "id": "6Drp1e3rzFbB"
      },
      "source": [
        "nr = int(input('Dame un nr: '))\n",
        "\n",
        "if nr > 0:\n",
        "  #Ojo que se debe indentar\n",
        "  print(f'El nr {nr} es positivo')\n",
        "elif nr == 0:\n",
        "  print(f'El nr {nr} es 0')\n",
        "else:\n",
        "  print(f'El nr {nr} es negativo')"
      ],
      "execution_count": null,
      "outputs": []
    },
    {
      "cell_type": "code",
      "metadata": {
        "colab": {
          "base_uri": "https://localhost:8080/"
        },
        "id": "FtG2m2LKzGHp",
        "outputId": "c20c663b-94f8-4a19-e9a6-a6f4b05bbf63"
      },
      "source": [
        "nr = int(input('Dame un nr: '))\n",
        "\n",
        "if nr > 0:\n",
        "  #Ojo que se debe indentar\n",
        "  if nr > 10:\n",
        "    print(f'El nr {nr} es positivo y mayor a 10')\n",
        "  elif nr > 5:\n",
        "    print(f'El nr {nr} es positivo y mayor a 5')\n",
        "  else:\n",
        "    print(f'El nr {nr} es positivo')\n",
        "elif nr == 0:\n",
        "  print(f'El nr {nr} es 0')\n",
        "else:\n",
        "  print(f'El nr {nr} es negativo')"
      ],
      "execution_count": 3,
      "outputs": [
        {
          "output_type": "stream",
          "text": [
            "Dame un nr: 7\n",
            "El nr 7 es positivo y mayor a 5\n"
          ],
          "name": "stdout"
        }
      ]
    },
    {
      "cell_type": "code",
      "metadata": {
        "id": "rKUEsq98zU_0"
      },
      "source": [
        "nr = int(input('Dame un nr: '))\n",
        "\n",
        "if nr > 0:\n",
        "  #Ojo que se debe indentar\n",
        "  if nr > 10:\n",
        "    print(f'El nr {nr} es positivo y mayor a 10')\n",
        "  elif nr > 5:\n",
        "    print(f'El nr {nr} es positivo y mayor a 5')\n",
        "  else:\n",
        "    print(f'El nr {nr} es positivo')\n",
        "elif nr == 0:\n",
        "  print(f'El nr {nr} es 0')\n",
        "else:\n",
        "  print(f'El nr {nr} es negativo')"
      ],
      "execution_count": null,
      "outputs": []
    }
  ]
}