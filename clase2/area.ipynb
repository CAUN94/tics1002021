{
  "nbformat": 4,
  "nbformat_minor": 0,
  "metadata": {
    "colab": {
      "name": "example.ipynb",
      "provenance": []
    },
    "kernelspec": {
      "name": "python3",
      "display_name": "Python 3"
    }
  },
  "cells": [
    {
      "cell_type": "code",
      "metadata": {
        "id": "cWgsT5_lYUg-"
      },
      "source": [
        "# pedir y guardar el valor de a\n",
        "a = input('Largo a: ')\n",
        "a = int(a)\n",
        "# pedir y guardar el valor de b\n",
        "b = input('Largo b: ')\n",
        "b = int(b)\n",
        "# calcular y guardar el area (a*b)\n",
        "area = a*b\n",
        "# mostrar por terminal a*b = area\n",
        "print(f\"El area del rectangulo de lado a={a} y b={b} es {area}\")"
      ],
      "execution_count": null,
      "outputs": []
    },
    {
      "cell_type": "code",
      "metadata": {
        "id": "-0kV7GG9ZFhZ"
      },
      "source": [
        ""
      ],
      "execution_count": null,
      "outputs": []
    },
    {
      "cell_type": "markdown",
      "metadata": {
        "id": "VQA89ihqYcQA"
      },
      "source": [
        ""
      ]
    }
  ]
}