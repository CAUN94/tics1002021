{
  "nbformat": 4,
  "nbformat_minor": 0,
  "metadata": {
    "colab": {
      "name": "Untitled0.ipynb",
      "provenance": []
    },
    "kernelspec": {
      "name": "python3",
      "display_name": "Python 3"
    }
  },
  "cells": [
    {
      "cell_type": "code",
      "metadata": {
        "id": "iNbazTPXcdkn"
      },
      "source": [
        "print(Hola Mundo)"
      ],
      "execution_count": null,
      "outputs": []
    },
    {
      "cell_type": "code",
      "metadata": {
        "id": "NUVTzpVwcfYA"
      },
      "source": [
        "print('Hola Mundo)"
      ],
      "execution_count": null,
      "outputs": []
    },
    {
      "cell_type": "code",
      "metadata": {
        "id": "EnzRwNivchc1"
      },
      "source": [
        "print('Hola Mundo')"
      ],
      "execution_count": null,
      "outputs": []
    },
    {
      "cell_type": "code",
      "metadata": {
        "id": "WyBF2s03ciyd"
      },
      "source": [
        "print('Hola'+'Mundo')"
      ],
      "execution_count": null,
      "outputs": []
    },
    {
      "cell_type": "code",
      "metadata": {
        "id": "tz0qpLcKcmTJ"
      },
      "source": [
        "print('Hola','Mundo')"
      ],
      "execution_count": null,
      "outputs": []
    },
    {
      "cell_type": "code",
      "metadata": {
        "id": "mze44XxWeWV4"
      },
      "source": [
        "print('La suma de 2','y 7 es',2+7)"
      ],
      "execution_count": null,
      "outputs": []
    },
    {
      "cell_type": "code",
      "metadata": {
        "id": "w8bf9zj2fwCE"
      },
      "source": [
        "input('Ingresa una Nota: ')"
      ],
      "execution_count": null,
      "outputs": []
    },
    {
      "cell_type": "code",
      "metadata": {
        "id": "LulMeKoak-rL"
      },
      "source": [
        "prueba_1 = input('Ingrese Nota Prueba 1: ')\n",
        "prueba_2 = input('Ingrese Nota Prueba 2: ')\n",
        "prueba_3 = input('Ingrese Nota Prueba 3: ')\n",
        "tareas = input('Ingrese Nota Tareas: ')\n",
        "proyecto = input('Ingrese Nota Proyecto: ')\n",
        "controles = input('Ingrese Nota Controles: ')\n",
        "nota_final = 0.2*(prueba_1+prueba_2) + 0.25*prueba_3 + 0.1*tareas + 0.1*proyecto + 0.15*controles\n",
        "\n",
        "print('La nota final es',nota_final)"
      ],
      "execution_count": null,
      "outputs": []
    },
    {
      "cell_type": "code",
      "metadata": {
        "id": "tONklL0qmaI0"
      },
      "source": [
        "prueba_1 = int(input('Ingrese Nota Prueba 1: ')\n",
        "prueba_2 = int(input('Ingrese Nota Prueba 2: ')\n",
        "prueba_3 = int(input('Ingrese Nota Prueba 3: ')\n",
        "tareas = int(input('Ingrese Nota Tareas: ')\n",
        "proyecto = int(input('Ingrese Nota Proyecto: ')\n",
        "controles = int(input('Ingrese Nota Controles: ')\n",
        "nota_final = 0.2*(prueba_1+prueba_2) + 0.25*prueba_3 + 0.1*tareas + 0.1*proyecto + 0.15*controles\n",
        "\n",
        "print('La nota final es',nota_final)"
      ],
      "execution_count": null,
      "outputs": []
    },
    {
      "cell_type": "code",
      "metadata": {
        "id": "H_Njkisrns4V"
      },
      "source": [
        "nombre = \"Claudia\"\n",
        "print(f\"Hola {nombre}\")\n"
      ],
      "execution_count": null,
      "outputs": []
    },
    {
      "cell_type": "code",
      "metadata": {
        "id": "I-4JKPS3nvQ9"
      },
      "source": [
        "string = 'Hola Mundo'\n",
        "\n",
        "print(type(string))\n",
        "\n",
        "integer = 1\n",
        "\n",
        "print(type(integer))\n",
        "\n",
        "flotante = 1.2\n",
        "\n",
        "print(type(flotante))\n",
        "\n",
        "boolean = True\n",
        "\n",
        "print(type(boolean))\n"
      ],
      "execution_count": null,
      "outputs": []
    },
    {
      "cell_type": "code",
      "metadata": {
        "colab": {
          "base_uri": "https://localhost:8080/"
        },
        "id": "tR9mVQt-qi0f",
        "outputId": "a111850a-0b86-420d-c71f-f72861695f5f"
      },
      "source": [
        "nr = input('Numero: ')\n",
        "\n",
        "print(type(nr))\n",
        "\n",
        "nr = int(nr)\n",
        "\n",
        "print(type(nr))\n",
        "\n",
        "nr = float(nr)\n",
        "\n",
        "print(type(nr))\n",
        "\n"
      ],
      "execution_count": 16,
      "outputs": [
        {
          "output_type": "stream",
          "text": [
            "Numero: 10\n",
            "<class 'str'>\n",
            "<class 'int'>\n",
            "<class 'float'>\n"
          ],
          "name": "stdout"
        }
      ]
    }
  ]
}