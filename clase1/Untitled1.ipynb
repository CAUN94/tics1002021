{
  "nbformat": 4,
  "nbformat_minor": 0,
  "metadata": {
    "colab": {
      "name": "Untitled1.ipynb",
      "provenance": []
    },
    "kernelspec": {
      "name": "python3",
      "display_name": "Python 3"
    }
  },
  "cells": [
    {
      "cell_type": "code",
      "metadata": {
        "colab": {
          "base_uri": "https://localhost:8080/"
        },
        "id": "B9_kUSpdXZ6E",
        "outputId": "a8582f27-0ac2-4b0d-9f4d-bbc4774644f4"
      },
      "source": [
        "# Mostrando Datos\n",
        "print('Hello World')\n"
      ],
      "execution_count": 1,
      "outputs": [
        {
          "output_type": "stream",
          "text": [
            "Hello World\n"
          ],
          "name": "stdout"
        }
      ]
    },
    {
      "cell_type": "code",
      "metadata": {
        "colab": {
          "base_uri": "https://localhost:8080/"
        },
        "id": "yPP0VTqqXb6T",
        "outputId": "740f3a28-bdfb-473a-b1ff-9e6543f662b8"
      },
      "source": [
        "# Interactuando con el usario\n",
        "numero = input('Dame un nr: ')\n",
        "print(f\"Tu numero es: {numero}\")\n"
      ],
      "execution_count": 2,
      "outputs": [
        {
          "output_type": "stream",
          "text": [
            "Dame un nr: 20\n",
            "Tu numero es: 20\n"
          ],
          "name": "stdout"
        }
      ]
    },
    {
      "cell_type": "code",
      "metadata": {
        "colab": {
          "base_uri": "https://localhost:8080/"
        },
        "id": "cqA-ZtSFXc-5",
        "outputId": "d2ebd0d9-bfa0-43b0-ef12-d2bf46571757"
      },
      "source": [
        "# Haciendo una tarea muchas veces\n",
        "for i in range(20):\n",
        "\tprint(i)\n"
      ],
      "execution_count": 3,
      "outputs": [
        {
          "output_type": "stream",
          "text": [
            "0\n",
            "1\n",
            "2\n",
            "3\n",
            "4\n",
            "5\n",
            "6\n",
            "7\n",
            "8\n",
            "9\n",
            "10\n",
            "11\n",
            "12\n",
            "13\n",
            "14\n",
            "15\n",
            "16\n",
            "17\n",
            "18\n",
            "19\n"
          ],
          "name": "stdout"
        }
      ]
    }
  ]
}