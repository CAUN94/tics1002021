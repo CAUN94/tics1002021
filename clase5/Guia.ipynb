{
  "nbformat": 4,
  "nbformat_minor": 0,
  "metadata": {
    "colab": {
      "name": "Untitled5.ipynb",
      "provenance": []
    },
    "kernelspec": {
      "name": "python3",
      "display_name": "Python 3"
    },
    "language_info": {
      "name": "python"
    }
  },
  "cells": [
    {
      "cell_type": "markdown",
      "metadata": {
        "id": "YkmkWXXpC0AU"
      },
      "source": [
        "# Breve Repaso\n",
        "\n",
        "Una estructura de control iterativa ó ciclo, permite realizar varias veces el mismo conjunto de operaciones.\n",
        "El ciclo se repite mientras se cumple alguna condición lógica\n",
        "\n",
        "En Python existen dos tipos de estructuras de repetición (ó iterativas): while y for\n",
        "\n",
        "## Ciclos con estructura de control While\n",
        "\n",
        "La estructura While evalúa una condición lógica antes de comenzar cada iteración. Si la condición es\n",
        "verdadera, entonces se ejecutan las instrucciones que están dentro de la estructura While. En caso\n",
        "contrario, el ciclo termina y se sigue con la ejecución de las instrucciones escritas fuera del ciclo. Las\n",
        "instrucciones que se consideran dentro del ciclo son aquellas que están tabuladas de tal forma que se\n",
        "encuentran a la derecha de la palabra reservada while.\n",
        "\n",
        "La sintaxis de la estructura while en Python es la siguiente:\n",
        "```\n",
        "while (condición):\n",
        "  <instrucciones del while>\n",
        "  <primera instrucción fuera del while>\n",
        "\n",
        "```\n",
        "\n",
        "Es decir, el conjunto de instrucciones se repetirá mientras la condición sea verdadera. Si la condición es\n",
        "falsa ya desde un principio, el conjunto de instrucciones no se ejecuta nunca.\n",
        "\n",
        "Por ejemplo, el siguiente código informa si el número ingresado por teclado por el usuario es positivo ó\n",
        "negativo, y se detiene cuando el usuario ingresa el número 0:\n",
        "\n",
        "\n",
        "\n",
        "```\n",
        "numeroUsuario=int(input(\"Ingresa un número, si quieres terminar ingresa el 0: \"))\n",
        "while (numeroUsuario!=0):\n",
        "  if (numeroUsuario>0):\n",
        "    print(\"Es positivo\")\n",
        "  else:\n",
        "    print(\"Es negativo\")\n",
        "  numeroUsuario=int(input(\"Ingresa otro número (0 para terminar): \"))\n",
        "print(\"Fin del ciclo Mientras\")\n",
        "```\n",
        "En este ejemplo, si se ingresa 0 la primera vez, la condición (numero!=0) será falsa. Por lo tanto, ni siquiera\n",
        "entra al bloque del Mientras, saliendo del ciclo y continuando con la siguiente instrucción que es:\n",
        "```\n",
        "print(“Fin del ciclo Mientras”);\n",
        "````\n",
        "## Repetición con instrucción for\n",
        "\n",
        "Una estructura de repetición for, permite iterar una ó más instrucciones. El número de veces que se repiten\n",
        "las instrucciones está definido por una variable de control (normalmente llamada contador). La sintaxis es la\n",
        "siguiente:\n",
        "\n",
        "```\n",
        "for nombreVariable in range(valorInicial,valorFinal,ModificaciónRango):\n",
        "  <instrucciones>\n",
        "```\n",
        "Donde nombreVariable es el nombre de la variable de control (normalmente se le llama contador), range(valorInicial,valorFinal,ModificaciónContador) genera los números sobre los cuales iterará la variable nombreVariable. Los números generado por la función range van desde <valorInicial> hasta\n",
        "<valorFinal>-1, con un incremento ó decremento de <ModificaciónRango>.\n",
        "\n",
        "Por ejemplo, para la siguiente estructura for:\n",
        "```\n",
        "for contador in range(1,6,1):\n",
        "  print(\"#\")\n",
        "```\n",
        "la función range(1,6,1) genera los números 1, 2, 3, 4, 5. Por lo cual, contador tomará cada uno de esos\n",
        "valores. La siguiente tabla muestra cómo va cambiando el valor de la variable contador (columna izquierda)\n",
        "junto con lo que va apareciendo en pantalla (columna derecha, entre paréntesis se muestran los símbolos\n",
        "que fueron impresos por pantalla en iteraciones anteriores):\n",
        "\n",
        "Contador Despliegue por pantalla\n",
        "```\n",
        "  1 #\n",
        "  2 ##\n",
        "  3 ###\n",
        "  4 ####\n",
        "  5 #####\n",
        "```\n",
        "Al finalizar la ejecución del ciclo, en pantalla quedan desplegados 5 símbolos #.\n",
        "\n",
        "Nota que se podría realizar lo mismo, con un ciclo while de la siguiente manera:\n",
        "\n",
        "```\n",
        "#While\n",
        "contador = 1\n",
        "while contador<6:\n",
        "  print('#')\n",
        "  contador = contador + 1\n",
        "```\n",
        "\n",
        "```\n",
        "#For\n",
        "for contador in range(1,6,1)\n",
        "  print('#')\n",
        "```\n",
        "\n",
        "Sin embargo, el uso de for es más compacto (2 líneas en vez de 4 líneas para ciclo while)."
      ]
    },
    {
      "cell_type": "markdown",
      "metadata": {
        "id": "JLwJZ-PaEukk"
      },
      "source": [
        ""
      ]
    },
    {
      "cell_type": "code",
      "metadata": {
        "id": "csUR3U8lCuuW"
      },
      "source": [
        "Escribe un algoritmo que resuelva el siguiente problema:\n",
        "Mostrar por pantalla los primeros 10 números\n",
        "pares. Resuelve este problema de 3 maneras distintas: usando ciclo while y ciclo for.\n",
        "\n",
        "Una solución posible con estructura de control while\n",
        "Esta solución usa una variable para contar el número de iteraciones y otra para almacenar el número de\n",
        "desplegar por pantalla."
      ],
      "execution_count": null,
      "outputs": []
    },
    {
      "cell_type": "code",
      "metadata": {
        "id": "_X0Jg32UE11a"
      },
      "source": [
        "#Escriba su respuesta"
      ],
      "execution_count": null,
      "outputs": []
    },
    {
      "cell_type": "code",
      "metadata": {
        "id": "S9S9q7mnE9rg"
      },
      "source": [
        "Escribe un algoritmo que resuelva el siguiente problema: mostrar por pantalla las primeras 4 potencias\n",
        "de 2. Resuelve este problema de 3 maneras distintas: usando ciclo while, ciclo for.\n",
        "\n",
        "Una solución posible con estructura de control while\n",
        "Esta solución usa una variable para contar el número de iteraciones y otra para almacenar el número de\n",
        "desplegar por pantalla."
      ],
      "execution_count": null,
      "outputs": []
    },
    {
      "cell_type": "code",
      "metadata": {
        "id": "rJmiZJ3CE6EO"
      },
      "source": [
        "#Escriba su respuesta"
      ],
      "execution_count": null,
      "outputs": []
    },
    {
      "cell_type": "markdown",
      "metadata": {
        "id": "ydzArJ-_FDH2"
      },
      "source": [
        "Escribe un algoritmo que resuelva el siguiente problema: mostrar por pantalla los primeros N números\n",
        "pares. N es un valor ingresado por el usuario. Resuelve este problema de 2 maneras distintas: usando\n",
        "ciclo while y ciclo for"
      ]
    },
    {
      "cell_type": "code",
      "metadata": {
        "id": "n-IkON00F11-"
      },
      "source": [
        "#Escriba su respuesta"
      ],
      "execution_count": null,
      "outputs": []
    },
    {
      "cell_type": "markdown",
      "metadata": {
        "id": "GWZciOhOFEKd"
      },
      "source": [
        "Escribe un algoritmo que resuelva el siguiente problema: desplegar por pantalla todos los números\n",
        "enteros que existen entre los números A y B (ambos inclusive) que ingresa el usuario. Nota que si A es\n",
        "menor que B, se despliegan los números en orden creciente. Pero si A es mayor que B, los números se\n",
        "despliegan en orden decreciente. A continuación se muestran 2 ejemplos de la ejecución del algoritmo:\n",
        "\n",
        "Ejemplo 1:\n",
        "Ingresar Primer Nr > 3\n",
        "Ingresar Segundo Nr > 7\n",
        "3,4,5,6,7\n",
        "\n",
        "Ejemplo 2:\n",
        "Ingresar Primer Nr > 8\n",
        "Ingresar Segundo Nr > 5\n",
        "8,7,6,5"
      ]
    },
    {
      "cell_type": "code",
      "metadata": {
        "id": "q2aqV7GuF2ga"
      },
      "source": [
        "#Escriba su respuesta"
      ],
      "execution_count": null,
      "outputs": []
    },
    {
      "cell_type": "markdown",
      "metadata": {
        "id": "HTLmlI9SFfNw"
      },
      "source": [
        "Escribe un algoritmo en Python que emule la solicitud de clave en una cajero automático: si el usuario\n",
        "equivoca la clave 3 veces consecutivas, el cajero muestra el mensaje “Tarjeta retenida”, se “traga” la\n",
        "tarjeta (esta última acción no la puedes emular en POython ya que la instrucción “Tragar tarjeta” no\n",
        "existe) y termina la ejecución del algoritmo. Si el usuario logra ingresar la clave válida en uno de los 3\n",
        "primeros intentos, entonces aparece el mensaje “Bienvenid@ al servicio”. Supón que la clave válida se\n",
        "encuentra almacenada en una variable."
      ]
    },
    {
      "cell_type": "code",
      "metadata": {
        "id": "DprU0fjMF3C5"
      },
      "source": [
        "#Escriba su respuesta"
      ],
      "execution_count": null,
      "outputs": []
    },
    {
      "cell_type": "markdown",
      "metadata": {
        "id": "RQMUTgb8FgCc"
      },
      "source": [
        "Escribe un algoritmo en Python que solicite números enteros al usuario, y vaya calculando la suma de\n",
        "todos ellos. La solicitud de números al usuario termina cuando se ingresa un -1, en cuyo caso se\n",
        "muestra por pantalla el resultado de la suma. Está permitido que el usuario ingrese como primer valor\n",
        "un -1, en cuyo caso el algoritmo termina inmediatamente."
      ]
    },
    {
      "cell_type": "code",
      "metadata": {
        "id": "eCo7tCgkF3m1"
      },
      "source": [
        "#Escriba su respuesta"
      ],
      "execution_count": null,
      "outputs": []
    },
    {
      "cell_type": "markdown",
      "metadata": {
        "id": "k4Nr2e7rFitu"
      },
      "source": [
        "Escribe el algoritmo que permite desplegar por pantalla los números pares que se encuentran entre\n",
        "dos números ingresados. El menor valor se almacena en la variable numInferior y el mayor enl la\n",
        "variable numSuperior."
      ]
    },
    {
      "cell_type": "code",
      "metadata": {
        "id": "2F5zYKjxF4Il"
      },
      "source": [
        "#Escriba su respuesta"
      ],
      "execution_count": null,
      "outputs": []
    },
    {
      "cell_type": "markdown",
      "metadata": {
        "id": "GTaq7V2mFq_Y"
      },
      "source": [
        "Escribe en código un algoritmo que solicite al usuario el número de empleados de una empresa y\n",
        "luego calcule el salario a pagar a cada uno de ellos. Para ello, para cada empleado, debe solicitar los\n",
        "siguientes datos: nombre, número de horas semanales trabajadas por el empleador (NHT), valor de la\n",
        "hora trabajada (VHC). Luego, el salario se calcula como NHT*VHC."
      ]
    },
    {
      "cell_type": "code",
      "metadata": {
        "id": "ZfJhpnAvF4wY"
      },
      "source": [
        "#Escriba su respuesta"
      ],
      "execution_count": null,
      "outputs": []
    },
    {
      "cell_type": "markdown",
      "metadata": {
        "id": "5BjNSb-zFtiA"
      },
      "source": [
        "Escribe el código de un algoritmo que calcule el factorial de un número ingresado. El factorial de un\n",
        "número n (denominado n!) se calcula como: n*(n-1)*(n-2)*(n-3)*..1."
      ]
    },
    {
      "cell_type": "code",
      "metadata": {
        "id": "5LDxq9gYF5Ug"
      },
      "source": [
        "#Escriba su respuesta"
      ],
      "execution_count": null,
      "outputs": []
    },
    {
      "cell_type": "markdown",
      "metadata": {
        "id": "8fYjzKW0Fu9S"
      },
      "source": [
        ""
      ]
    }
  ]
}